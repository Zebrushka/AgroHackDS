{
  "nbformat": 4,
  "nbformat_minor": 0,
  "metadata": {
    "kernelspec": {
      "display_name": "Python 3",
      "language": "python",
      "name": "python3"
    },
    "language_info": {
      "codemirror_mode": {
        "name": "ipython",
        "version": 3
      },
      "file_extension": ".py",
      "mimetype": "text/x-python",
      "name": "python",
      "nbconvert_exporter": "python",
      "pygments_lexer": "ipython3",
      "version": "3.8.6"
    },
    "colab": {
      "name": "Baseline.ipynb",
      "provenance": [],
      "collapsed_sections": [],
      "include_colab_link": true
    },
    "widgets": {
      "application/vnd.jupyter.widget-state+json": {
        "d4041f3d13a8462792197fa4c11eeed3": {
          "model_module": "@jupyter-widgets/controls",
          "model_name": "HBoxModel",
          "model_module_version": "1.5.0",
          "state": {
            "_view_name": "HBoxView",
            "_dom_classes": [],
            "_model_name": "HBoxModel",
            "_view_module": "@jupyter-widgets/controls",
            "_model_module_version": "1.5.0",
            "_view_count": null,
            "_view_module_version": "1.5.0",
            "box_style": "",
            "layout": "IPY_MODEL_cbb3f72d14c340e5a3a25d4a21a9d86d",
            "_model_module": "@jupyter-widgets/controls",
            "children": [
              "IPY_MODEL_e5591cd7bbb14a438f923f464ba5a2e0",
              "IPY_MODEL_7f499f72e20e4a6a9e1918b6963e5d9c",
              "IPY_MODEL_118bc97c8f9f413cbe809c6b0ab658b6"
            ]
          }
        },
        "cbb3f72d14c340e5a3a25d4a21a9d86d": {
          "model_module": "@jupyter-widgets/base",
          "model_name": "LayoutModel",
          "model_module_version": "1.2.0",
          "state": {
            "_view_name": "LayoutView",
            "grid_template_rows": null,
            "right": null,
            "justify_content": null,
            "_view_module": "@jupyter-widgets/base",
            "overflow": null,
            "_model_module_version": "1.2.0",
            "_view_count": null,
            "flex_flow": null,
            "width": null,
            "min_width": null,
            "border": null,
            "align_items": null,
            "bottom": null,
            "_model_module": "@jupyter-widgets/base",
            "top": null,
            "grid_column": null,
            "overflow_y": null,
            "overflow_x": null,
            "grid_auto_flow": null,
            "grid_area": null,
            "grid_template_columns": null,
            "flex": null,
            "_model_name": "LayoutModel",
            "justify_items": null,
            "grid_row": null,
            "max_height": null,
            "align_content": null,
            "visibility": null,
            "align_self": null,
            "height": null,
            "min_height": null,
            "padding": null,
            "grid_auto_rows": null,
            "grid_gap": null,
            "max_width": null,
            "order": null,
            "_view_module_version": "1.2.0",
            "grid_template_areas": null,
            "object_position": null,
            "object_fit": null,
            "grid_auto_columns": null,
            "margin": null,
            "display": null,
            "left": null
          }
        },
        "e5591cd7bbb14a438f923f464ba5a2e0": {
          "model_module": "@jupyter-widgets/controls",
          "model_name": "HTMLModel",
          "model_module_version": "1.5.0",
          "state": {
            "_view_name": "HTMLView",
            "style": "IPY_MODEL_e20d60477e6342a2be66edd04232359c",
            "_dom_classes": [],
            "description": "",
            "_model_name": "HTMLModel",
            "placeholder": "​",
            "_view_module": "@jupyter-widgets/controls",
            "_model_module_version": "1.5.0",
            "value": "  0%",
            "_view_count": null,
            "_view_module_version": "1.5.0",
            "description_tooltip": null,
            "_model_module": "@jupyter-widgets/controls",
            "layout": "IPY_MODEL_65ae0b4796a6430192dbe850d078f580"
          }
        },
        "7f499f72e20e4a6a9e1918b6963e5d9c": {
          "model_module": "@jupyter-widgets/controls",
          "model_name": "FloatProgressModel",
          "model_module_version": "1.5.0",
          "state": {
            "_view_name": "ProgressView",
            "style": "IPY_MODEL_d00cd31e61eb4cd78a3605db41f5a14f",
            "_dom_classes": [],
            "description": "",
            "_model_name": "FloatProgressModel",
            "bar_style": "danger",
            "max": 294,
            "_view_module": "@jupyter-widgets/controls",
            "_model_module_version": "1.5.0",
            "value": 0,
            "_view_count": null,
            "_view_module_version": "1.5.0",
            "orientation": "horizontal",
            "min": 0,
            "description_tooltip": null,
            "_model_module": "@jupyter-widgets/controls",
            "layout": "IPY_MODEL_b94a8d583b954a48b8e2641c881e9cf7"
          }
        },
        "118bc97c8f9f413cbe809c6b0ab658b6": {
          "model_module": "@jupyter-widgets/controls",
          "model_name": "HTMLModel",
          "model_module_version": "1.5.0",
          "state": {
            "_view_name": "HTMLView",
            "style": "IPY_MODEL_ec2e2e78d4d141b9be1b9d5b95c7f136",
            "_dom_classes": [],
            "description": "",
            "_model_name": "HTMLModel",
            "placeholder": "​",
            "_view_module": "@jupyter-widgets/controls",
            "_model_module_version": "1.5.0",
            "value": " 0/294 [00:00&lt;?, ?it/s]",
            "_view_count": null,
            "_view_module_version": "1.5.0",
            "description_tooltip": null,
            "_model_module": "@jupyter-widgets/controls",
            "layout": "IPY_MODEL_b6803e160f9a4e169552f960b1179372"
          }
        },
        "e20d60477e6342a2be66edd04232359c": {
          "model_module": "@jupyter-widgets/controls",
          "model_name": "DescriptionStyleModel",
          "model_module_version": "1.5.0",
          "state": {
            "_view_name": "StyleView",
            "_model_name": "DescriptionStyleModel",
            "description_width": "",
            "_view_module": "@jupyter-widgets/base",
            "_model_module_version": "1.5.0",
            "_view_count": null,
            "_view_module_version": "1.2.0",
            "_model_module": "@jupyter-widgets/controls"
          }
        },
        "65ae0b4796a6430192dbe850d078f580": {
          "model_module": "@jupyter-widgets/base",
          "model_name": "LayoutModel",
          "model_module_version": "1.2.0",
          "state": {
            "_view_name": "LayoutView",
            "grid_template_rows": null,
            "right": null,
            "justify_content": null,
            "_view_module": "@jupyter-widgets/base",
            "overflow": null,
            "_model_module_version": "1.2.0",
            "_view_count": null,
            "flex_flow": null,
            "width": null,
            "min_width": null,
            "border": null,
            "align_items": null,
            "bottom": null,
            "_model_module": "@jupyter-widgets/base",
            "top": null,
            "grid_column": null,
            "overflow_y": null,
            "overflow_x": null,
            "grid_auto_flow": null,
            "grid_area": null,
            "grid_template_columns": null,
            "flex": null,
            "_model_name": "LayoutModel",
            "justify_items": null,
            "grid_row": null,
            "max_height": null,
            "align_content": null,
            "visibility": null,
            "align_self": null,
            "height": null,
            "min_height": null,
            "padding": null,
            "grid_auto_rows": null,
            "grid_gap": null,
            "max_width": null,
            "order": null,
            "_view_module_version": "1.2.0",
            "grid_template_areas": null,
            "object_position": null,
            "object_fit": null,
            "grid_auto_columns": null,
            "margin": null,
            "display": null,
            "left": null
          }
        },
        "d00cd31e61eb4cd78a3605db41f5a14f": {
          "model_module": "@jupyter-widgets/controls",
          "model_name": "ProgressStyleModel",
          "model_module_version": "1.5.0",
          "state": {
            "_view_name": "StyleView",
            "_model_name": "ProgressStyleModel",
            "description_width": "",
            "_view_module": "@jupyter-widgets/base",
            "_model_module_version": "1.5.0",
            "_view_count": null,
            "_view_module_version": "1.2.0",
            "bar_color": null,
            "_model_module": "@jupyter-widgets/controls"
          }
        },
        "b94a8d583b954a48b8e2641c881e9cf7": {
          "model_module": "@jupyter-widgets/base",
          "model_name": "LayoutModel",
          "model_module_version": "1.2.0",
          "state": {
            "_view_name": "LayoutView",
            "grid_template_rows": null,
            "right": null,
            "justify_content": null,
            "_view_module": "@jupyter-widgets/base",
            "overflow": null,
            "_model_module_version": "1.2.0",
            "_view_count": null,
            "flex_flow": null,
            "width": null,
            "min_width": null,
            "border": null,
            "align_items": null,
            "bottom": null,
            "_model_module": "@jupyter-widgets/base",
            "top": null,
            "grid_column": null,
            "overflow_y": null,
            "overflow_x": null,
            "grid_auto_flow": null,
            "grid_area": null,
            "grid_template_columns": null,
            "flex": null,
            "_model_name": "LayoutModel",
            "justify_items": null,
            "grid_row": null,
            "max_height": null,
            "align_content": null,
            "visibility": null,
            "align_self": null,
            "height": null,
            "min_height": null,
            "padding": null,
            "grid_auto_rows": null,
            "grid_gap": null,
            "max_width": null,
            "order": null,
            "_view_module_version": "1.2.0",
            "grid_template_areas": null,
            "object_position": null,
            "object_fit": null,
            "grid_auto_columns": null,
            "margin": null,
            "display": null,
            "left": null
          }
        },
        "ec2e2e78d4d141b9be1b9d5b95c7f136": {
          "model_module": "@jupyter-widgets/controls",
          "model_name": "DescriptionStyleModel",
          "model_module_version": "1.5.0",
          "state": {
            "_view_name": "StyleView",
            "_model_name": "DescriptionStyleModel",
            "description_width": "",
            "_view_module": "@jupyter-widgets/base",
            "_model_module_version": "1.5.0",
            "_view_count": null,
            "_view_module_version": "1.2.0",
            "_model_module": "@jupyter-widgets/controls"
          }
        },
        "b6803e160f9a4e169552f960b1179372": {
          "model_module": "@jupyter-widgets/base",
          "model_name": "LayoutModel",
          "model_module_version": "1.2.0",
          "state": {
            "_view_name": "LayoutView",
            "grid_template_rows": null,
            "right": null,
            "justify_content": null,
            "_view_module": "@jupyter-widgets/base",
            "overflow": null,
            "_model_module_version": "1.2.0",
            "_view_count": null,
            "flex_flow": null,
            "width": null,
            "min_width": null,
            "border": null,
            "align_items": null,
            "bottom": null,
            "_model_module": "@jupyter-widgets/base",
            "top": null,
            "grid_column": null,
            "overflow_y": null,
            "overflow_x": null,
            "grid_auto_flow": null,
            "grid_area": null,
            "grid_template_columns": null,
            "flex": null,
            "_model_name": "LayoutModel",
            "justify_items": null,
            "grid_row": null,
            "max_height": null,
            "align_content": null,
            "visibility": null,
            "align_self": null,
            "height": null,
            "min_height": null,
            "padding": null,
            "grid_auto_rows": null,
            "grid_gap": null,
            "max_width": null,
            "order": null,
            "_view_module_version": "1.2.0",
            "grid_template_areas": null,
            "object_position": null,
            "object_fit": null,
            "grid_auto_columns": null,
            "margin": null,
            "display": null,
            "left": null
          }
        }
      }
    }
  },
  "cells": [
    {
      "cell_type": "markdown",
      "metadata": {
        "id": "view-in-github",
        "colab_type": "text"
      },
      "source": [
        "<a href=\"https://colab.research.google.com/github/Zebrushka/AgroHackDS/blob/main/Baseline.ipynb\" target=\"_parent\"><img src=\"https://colab.research.google.com/assets/colab-badge.svg\" alt=\"Open In Colab\"/></a>"
      ]
    },
    {
      "cell_type": "markdown",
      "metadata": {
        "id": "6tyzAgdX2yBn"
      },
      "source": [
        "# Импорт модулей"
      ]
    },
    {
      "cell_type": "code",
      "metadata": {
        "colab": {
          "base_uri": "https://localhost:8080/"
        },
        "id": "wu4wz7zh27YK",
        "outputId": "efc36b95-de7d-45b0-f55a-671d06544945"
      },
      "source": [
        "from google.colab import drive\n",
        "drive.mount('/content/drive')"
      ],
      "execution_count": 1,
      "outputs": [
        {
          "output_type": "stream",
          "name": "stdout",
          "text": [
            "Mounted at /content/drive\n"
          ]
        }
      ]
    },
    {
      "cell_type": "code",
      "metadata": {
        "colab": {
          "base_uri": "https://localhost:8080/"
        },
        "id": "8irYQBid2yBy",
        "outputId": "ab379c41-f940-4fa6-9fc9-ae2b0bd0332f"
      },
      "source": [
        "!pip install catboost\n",
        "\n",
        "import json\n",
        "import pandas as pd\n",
        "import numpy as np\n",
        "from catboost import CatBoostClassifier\n",
        "from sklearn.model_selection import train_test_split\n",
        "from sklearn.multiclass import OneVsRestClassifier\n",
        "from sklearn.metrics import log_loss"
      ],
      "execution_count": 2,
      "outputs": [
        {
          "output_type": "stream",
          "name": "stdout",
          "text": [
            "Collecting catboost\n",
            "  Downloading catboost-1.0.0-cp37-none-manylinux1_x86_64.whl (76.4 MB)\n",
            "\u001b[K     |████████████████████████████████| 76.4 MB 1.2 MB/s \n",
            "\u001b[?25hRequirement already satisfied: numpy>=1.16.0 in /usr/local/lib/python3.7/dist-packages (from catboost) (1.19.5)\n",
            "Requirement already satisfied: plotly in /usr/local/lib/python3.7/dist-packages (from catboost) (4.4.1)\n",
            "Requirement already satisfied: six in /usr/local/lib/python3.7/dist-packages (from catboost) (1.15.0)\n",
            "Requirement already satisfied: matplotlib in /usr/local/lib/python3.7/dist-packages (from catboost) (3.2.2)\n",
            "Requirement already satisfied: scipy in /usr/local/lib/python3.7/dist-packages (from catboost) (1.4.1)\n",
            "Requirement already satisfied: graphviz in /usr/local/lib/python3.7/dist-packages (from catboost) (0.10.1)\n",
            "Requirement already satisfied: pandas>=0.24.0 in /usr/local/lib/python3.7/dist-packages (from catboost) (1.1.5)\n",
            "Requirement already satisfied: python-dateutil>=2.7.3 in /usr/local/lib/python3.7/dist-packages (from pandas>=0.24.0->catboost) (2.8.2)\n",
            "Requirement already satisfied: pytz>=2017.2 in /usr/local/lib/python3.7/dist-packages (from pandas>=0.24.0->catboost) (2018.9)\n",
            "Requirement already satisfied: kiwisolver>=1.0.1 in /usr/local/lib/python3.7/dist-packages (from matplotlib->catboost) (1.3.2)\n",
            "Requirement already satisfied: cycler>=0.10 in /usr/local/lib/python3.7/dist-packages (from matplotlib->catboost) (0.10.0)\n",
            "Requirement already satisfied: pyparsing!=2.0.4,!=2.1.2,!=2.1.6,>=2.0.1 in /usr/local/lib/python3.7/dist-packages (from matplotlib->catboost) (2.4.7)\n",
            "Requirement already satisfied: retrying>=1.3.3 in /usr/local/lib/python3.7/dist-packages (from plotly->catboost) (1.3.3)\n",
            "Installing collected packages: catboost\n",
            "Successfully installed catboost-1.0.0\n"
          ]
        }
      ]
    },
    {
      "cell_type": "markdown",
      "metadata": {
        "id": "wJifExPD2yB2"
      },
      "source": [
        "# Загрузка данных"
      ]
    },
    {
      "cell_type": "markdown",
      "metadata": {
        "id": "S9r7IMgO2yB3"
      },
      "source": [
        "Тренировочные данные состоят из полей 'text_id', 'text' и 11 полей с таргетами. Не стоит забывать, что может быть больше одной болезни для каждого случая."
      ]
    },
    {
      "cell_type": "markdown",
      "metadata": {
        "id": "STIY_JqU2yB4"
      },
      "source": [
        "Тестовые же данные содержат поля 'text_id' и 'text'."
      ]
    },
    {
      "cell_type": "code",
      "metadata": {
        "id": "pJ6KoE2u2yB4"
      },
      "source": [
        "train = pd.read_csv('/content/drive/MyDrive/Agrocode Hack/train.csv')\n",
        "test = pd.read_csv('/content/drive/MyDrive/Agrocode Hack/test.csv')"
      ],
      "execution_count": 25,
      "outputs": []
    },
    {
      "cell_type": "code",
      "metadata": {
        "id": "fFQlJkiYkqZw",
        "outputId": "5e0999b1-3f02-4aaf-aa2c-e40789601eb1",
        "colab": {
          "base_uri": "https://localhost:8080/",
          "height": 374
        }
      },
      "source": [
        "train.head()"
      ],
      "execution_count": 20,
      "outputs": [
        {
          "output_type": "execute_result",
          "data": {
            "text/html": [
              "<div>\n",
              "<style scoped>\n",
              "    .dataframe tbody tr th:only-of-type {\n",
              "        vertical-align: middle;\n",
              "    }\n",
              "\n",
              "    .dataframe tbody tr th {\n",
              "        vertical-align: top;\n",
              "    }\n",
              "\n",
              "    .dataframe thead th {\n",
              "        text-align: right;\n",
              "    }\n",
              "</style>\n",
              "<table border=\"1\" class=\"dataframe\">\n",
              "  <thead>\n",
              "    <tr style=\"text-align: right;\">\n",
              "      <th></th>\n",
              "      <th>text_id</th>\n",
              "      <th>text</th>\n",
              "      <th>эймериоз</th>\n",
              "      <th>абсцесс</th>\n",
              "      <th>диспепсия молодняка</th>\n",
              "      <th>остертагиоз</th>\n",
              "      <th>мастит</th>\n",
              "      <th>инфекционный ринотрахеит</th>\n",
              "      <th>отёк вымени</th>\n",
              "      <th>тенденит</th>\n",
              "      <th>сибирская язва</th>\n",
              "      <th>лишай</th>\n",
              "      <th>другое</th>\n",
              "    </tr>\n",
              "  </thead>\n",
              "  <tbody>\n",
              "    <tr>\n",
              "      <th>0</th>\n",
              "      <td>0</td>\n",
              "      <td>Корова, видимо вставая, раздавила себе сосок. ...</td>\n",
              "      <td>0</td>\n",
              "      <td>0</td>\n",
              "      <td>0</td>\n",
              "      <td>0</td>\n",
              "      <td>1</td>\n",
              "      <td>0</td>\n",
              "      <td>0</td>\n",
              "      <td>0</td>\n",
              "      <td>0</td>\n",
              "      <td>0</td>\n",
              "      <td>0</td>\n",
              "    </tr>\n",
              "    <tr>\n",
              "      <th>1</th>\n",
              "      <td>1</td>\n",
              "      <td>Корове 8 лет! Месяц назад промеж четвертей вым...</td>\n",
              "      <td>0</td>\n",
              "      <td>0</td>\n",
              "      <td>0</td>\n",
              "      <td>0</td>\n",
              "      <td>0</td>\n",
              "      <td>0</td>\n",
              "      <td>0</td>\n",
              "      <td>0</td>\n",
              "      <td>1</td>\n",
              "      <td>1</td>\n",
              "      <td>1</td>\n",
              "    </tr>\n",
              "    <tr>\n",
              "      <th>2</th>\n",
              "      <td>2</td>\n",
              "      <td>Молоко течёт само у коровы. Что делать, если у...</td>\n",
              "      <td>0</td>\n",
              "      <td>0</td>\n",
              "      <td>0</td>\n",
              "      <td>0</td>\n",
              "      <td>1</td>\n",
              "      <td>0</td>\n",
              "      <td>1</td>\n",
              "      <td>0</td>\n",
              "      <td>0</td>\n",
              "      <td>0</td>\n",
              "      <td>0</td>\n",
              "    </tr>\n",
              "    <tr>\n",
              "      <th>3</th>\n",
              "      <td>3</td>\n",
              "      <td>У нетели болячки на вымени.\\nЗдравствуйте. Нет...</td>\n",
              "      <td>0</td>\n",
              "      <td>0</td>\n",
              "      <td>0</td>\n",
              "      <td>0</td>\n",
              "      <td>0</td>\n",
              "      <td>0</td>\n",
              "      <td>0</td>\n",
              "      <td>0</td>\n",
              "      <td>1</td>\n",
              "      <td>1</td>\n",
              "      <td>1</td>\n",
              "    </tr>\n",
              "    <tr>\n",
              "      <th>4</th>\n",
              "      <td>4</td>\n",
              "      <td>У меня первотелка, на днях отёл, у неё левый п...</td>\n",
              "      <td>0</td>\n",
              "      <td>0</td>\n",
              "      <td>0</td>\n",
              "      <td>0</td>\n",
              "      <td>1</td>\n",
              "      <td>0</td>\n",
              "      <td>0</td>\n",
              "      <td>0</td>\n",
              "      <td>0</td>\n",
              "      <td>0</td>\n",
              "      <td>0</td>\n",
              "    </tr>\n",
              "  </tbody>\n",
              "</table>\n",
              "</div>"
            ],
            "text/plain": [
              "   text_id                                               text  ...  лишай  другое\n",
              "0        0  Корова, видимо вставая, раздавила себе сосок. ...  ...      0       0\n",
              "1        1  Корове 8 лет! Месяц назад промеж четвертей вым...  ...      1       1\n",
              "2        2  Молоко течёт само у коровы. Что делать, если у...  ...      0       0\n",
              "3        3  У нетели болячки на вымени.\\nЗдравствуйте. Нет...  ...      1       1\n",
              "4        4  У меня первотелка, на днях отёл, у неё левый п...  ...      0       0\n",
              "\n",
              "[5 rows x 13 columns]"
            ]
          },
          "metadata": {},
          "execution_count": 20
        }
      ]
    },
    {
      "cell_type": "markdown",
      "metadata": {
        "id": "pYWbZW92CK8I"
      },
      "source": [
        "# TFiDF + SkLearn"
      ]
    },
    {
      "cell_type": "code",
      "metadata": {
        "id": "-H19XnbgDOH6"
      },
      "source": [
        "from wordcloud import WordCloud, STOPWORDS, ImageColorGenerator\n",
        "import matplotlib.pyplot as plt"
      ],
      "execution_count": 29,
      "outputs": []
    },
    {
      "cell_type": "code",
      "metadata": {
        "id": "_528quJtCOWA",
        "outputId": "2020e2e1-049a-41db-c6ae-65a38fb77204",
        "colab": {
          "base_uri": "https://localhost:8080/",
          "height": 508
        }
      },
      "source": [
        "# Получение текстовой строки из списка слов\n",
        "def str_corpus(corpus):\n",
        "    str_corpus = ''\n",
        "    for i in corpus:\n",
        "        str_corpus += ' ' + i\n",
        "    str_corpus = str_corpus.strip()\n",
        "    return str_corpus\n",
        "\n",
        "# Получение списка всех слов в корпусе\n",
        "def get_corpus(data):\n",
        "    corpus = []\n",
        "    for phrase in data:\n",
        "        for word in phrase.split():\n",
        "            corpus.append(word)\n",
        "    return corpus\n",
        "\n",
        "# Получение облака слов\n",
        "def get_wordCloud(corpus):\n",
        "    wordCloud = WordCloud(background_color='white',\n",
        "                              stopwords=STOPWORDS,\n",
        "                              width=3000,\n",
        "                              height=2500,\n",
        "                              max_words=200,\n",
        "                              random_state=42\n",
        "                         ).generate(str_corpus(corpus))\n",
        "    return wordCloud\n",
        "\n",
        "\n",
        "corpus = get_corpus(train['text'].values)\n",
        "procWordCloud = get_wordCloud(corpus)\n",
        "\n",
        "\n",
        "fig = plt.figure(figsize=(20, 8))\n",
        "plt.subplot(1, 2, 1)\n",
        "plt.imshow(procWordCloud)\n",
        "plt.axis('off')\n",
        "plt.subplot(1, 2, 1)"
      ],
      "execution_count": 30,
      "outputs": [
        {
          "output_type": "stream",
          "name": "stderr",
          "text": [
            "/usr/local/lib/python3.7/dist-packages/ipykernel_launcher.py:37: MatplotlibDeprecationWarning: Adding an axes using the same arguments as a previous axes currently reuses the earlier instance.  In a future version, a new instance will always be created and returned.  Meanwhile, this warning can be suppressed, and the future behavior ensured, by passing a unique label to each axes instance.\n"
          ]
        },
        {
          "output_type": "execute_result",
          "data": {
            "text/plain": [
              "<matplotlib.axes._subplots.AxesSubplot at 0x7fee1911cd50>"
            ]
          },
          "metadata": {},
          "execution_count": 30
        },
        {
          "output_type": "display_data",
          "data": {
            "image/png": "[encoded data removed]",
            "text/plain": [
              "<Figure size 1440x576 with 1 Axes>"
            ]
          },
          "metadata": {
            "needs_background": "light"
          }
        }
      ]
    },
    {
      "cell_type": "code",
      "metadata": {
        "id": "FRLskKudEdGU",
        "outputId": "d7ec82e5-9a1f-412e-c488-1815de1b46f9",
        "colab": {
          "base_uri": "https://localhost:8080/"
        }
      },
      "source": [
        "from sklearn.feature_extraction.text import CountVectorizer\n",
        "import numpy as np\n",
        "\n",
        "# создаем мешок слов\n",
        "\n",
        "# инициализируем\n",
        "count_vect = CountVectorizer()\n",
        "# составляем корпус документов\n",
        "corpus = train['text']\n",
        "\n",
        "# bow, от англ. bag of words\n",
        "bow = count_vect.fit_transform(corpus)\n",
        "\n",
        "print(bow.toarray())\n",
        "\n",
        "# чтобы узнать количественное вхождение каждого слова:\n",
        "matrix_freq = np.asarray(X.sum(axis=0)).ravel()\n",
        "final_matrix = np.array([np.array(count_vect.get_feature_names()), matrix_freq])"
      ],
      "execution_count": 34,
      "outputs": [
        {
          "output_type": "stream",
          "name": "stdout",
          "text": [
            "[[0 0 0 ... 0 0 0]\n",
            " [0 0 0 ... 0 0 0]\n",
            " [0 0 0 ... 0 0 0]\n",
            " ...\n",
            " [0 0 0 ... 1 0 0]\n",
            " [0 0 0 ... 0 0 0]\n",
            " [0 0 0 ... 0 0 0]]\n"
          ]
        }
      ]
    },
    {
      "cell_type": "code",
      "metadata": {
        "id": "Oy65y2qIFS9C",
        "outputId": "70fcf7d9-9a52-4410-f40b-72daa934ae21",
        "colab": {
          "base_uri": "https://localhost:8080/"
        }
      },
      "source": [
        "count_vect.get_feature_names()"
      ],
      "execution_count": 35,
      "outputs": [
        {
          "output_type": "execute_result",
          "data": {
            "text/plain": [
              "['00',\n",
              " '08',\n",
              " '10',\n",
              " '100',\n",
              " '100мл',\n",
              " '10февраля',\n",
              " '11',\n",
              " '12',\n",
              " '1250',\n",
              " '13',\n",
              " '130',\n",
              " '14',\n",
              " '15',\n",
              " '16',\n",
              " '17',\n",
              " '18',\n",
              " '19',\n",
              " '190',\n",
              " '1г4м',\n",
              " '1мл',\n",
              " '20',\n",
              " '200',\n",
              " '2018',\n",
              " '2019',\n",
              " '21',\n",
              " '23',\n",
              " '24',\n",
              " '27',\n",
              " '28',\n",
              " '2дня',\n",
              " '2л',\n",
              " '2мл',\n",
              " '2раза',\n",
              " '2х',\n",
              " '30',\n",
              " '300',\n",
              " '31',\n",
              " '32',\n",
              " '34',\n",
              " '35',\n",
              " '36',\n",
              " '37',\n",
              " '38',\n",
              " '39',\n",
              " '3х',\n",
              " '40',\n",
              " '400',\n",
              " '400мг',\n",
              " '40мл',\n",
              " '45',\n",
              " '48',\n",
              " '50',\n",
              " '500',\n",
              " '5000',\n",
              " '50мл',\n",
              " '530',\n",
              " '70',\n",
              " '750',\n",
              " '7кг',\n",
              " '7л',\n",
              " '7мл',\n",
              " '80',\n",
              " '8л',\n",
              " '8мес',\n",
              " 'mail',\n",
              " 'nad',\n",
              " 'ru',\n",
              " 'snegirewa060457',\n",
              " 'аборта',\n",
              " 'абсцез',\n",
              " 'абсцес',\n",
              " 'августа',\n",
              " 'авитаминоз',\n",
              " 'авито',\n",
              " 'аж',\n",
              " 'азитронит',\n",
              " 'ак',\n",
              " 'аккуратно',\n",
              " 'активированный',\n",
              " 'активная',\n",
              " 'активно',\n",
              " 'активный',\n",
              " 'активным',\n",
              " 'алая',\n",
              " 'аллергии',\n",
              " 'аллергия',\n",
              " 'ампулы',\n",
              " 'анализ',\n",
              " 'анализах',\n",
              " 'анализы',\n",
              " 'анального',\n",
              " 'ангар',\n",
              " 'антибиотик',\n",
              " 'антибиотика',\n",
              " 'антибиотиками',\n",
              " 'антибиотики',\n",
              " 'антибиотиков',\n",
              " 'антибиотиком',\n",
              " 'апитит',\n",
              " 'аппаратом',\n",
              " 'аппетит',\n",
              " 'аппетита',\n",
              " 'аппетитом',\n",
              " 'аппитит',\n",
              " 'апреля',\n",
              " 'аптеке',\n",
              " 'артерия',\n",
              " 'асд',\n",
              " 'асцит',\n",
              " 'ахти',\n",
              " 'ашиэнро',\n",
              " 'бактерии',\n",
              " 'балачка',\n",
              " 'банку',\n",
              " 'банок',\n",
              " 'барьерные',\n",
              " 'батарее',\n",
              " 'бегал',\n",
              " 'беда',\n",
              " 'бедная',\n",
              " 'бедой',\n",
              " 'бежит',\n",
              " 'без',\n",
              " 'белая',\n",
              " 'бело',\n",
              " 'белого',\n",
              " 'белок',\n",
              " 'беломышечная',\n",
              " 'беломышечной',\n",
              " 'белые',\n",
              " 'белый',\n",
              " 'берем',\n",
              " 'беременна',\n",
              " 'беременная',\n",
              " 'беременности',\n",
              " 'берет',\n",
              " 'берется',\n",
              " 'берёшь',\n",
              " 'беспокоимся',\n",
              " 'беспокоит',\n",
              " 'беспокойства',\n",
              " 'бестолково',\n",
              " 'биавит',\n",
              " 'бифидумбактерином',\n",
              " 'бицилин',\n",
              " 'бициллин',\n",
              " 'благодарен',\n",
              " 'благодарю',\n",
              " 'бледный',\n",
              " 'блестящих',\n",
              " 'ближайшее',\n",
              " 'ближе',\n",
              " 'блин',\n",
              " 'блох',\n",
              " 'богу',\n",
              " 'боднули',\n",
              " 'бодрая',\n",
              " 'бодрее',\n",
              " 'бодрый',\n",
              " 'боимся',\n",
              " 'бок',\n",
              " 'бока',\n",
              " 'боку',\n",
              " 'более',\n",
              " 'болеет',\n",
              " 'болезненно',\n",
              " 'болезни',\n",
              " 'болезнь',\n",
              " 'болезнью',\n",
              " 'болит',\n",
              " 'болтушку',\n",
              " 'больная',\n",
              " 'больно',\n",
              " 'больного',\n",
              " 'большая',\n",
              " 'больше',\n",
              " 'большие',\n",
              " 'большими',\n",
              " 'большое',\n",
              " 'большой',\n",
              " 'большую',\n",
              " 'болячек',\n",
              " 'болячка',\n",
              " 'болячками',\n",
              " 'болячках',\n",
              " 'болячки',\n",
              " 'болячкой',\n",
              " 'борглюконат',\n",
              " 'борглюконата',\n",
              " 'боремся',\n",
              " 'бородавка',\n",
              " 'бородавки',\n",
              " 'бороться',\n",
              " 'бортом',\n",
              " 'бочке',\n",
              " 'боюсь',\n",
              " 'боялись',\n",
              " 'брали',\n",
              " 'бросает',\n",
              " 'бросать',\n",
              " 'брызжет',\n",
              " 'брыкаться',\n",
              " 'брычит',\n",
              " 'брюхе',\n",
              " 'брюхо',\n",
              " 'брюху',\n",
              " 'брюшной',\n",
              " 'бугорки',\n",
              " 'будет',\n",
              " 'будто',\n",
              " 'буду',\n",
              " 'буквально',\n",
              " 'бурая',\n",
              " 'буренки',\n",
              " 'бурлит',\n",
              " 'бурёнке',\n",
              " 'бутылки',\n",
              " 'бы',\n",
              " 'бывшая',\n",
              " 'бык',\n",
              " 'быка',\n",
              " 'быки',\n",
              " 'быков',\n",
              " 'быком',\n",
              " 'быку',\n",
              " 'был',\n",
              " 'была',\n",
              " 'были',\n",
              " 'было',\n",
              " 'быстро',\n",
              " 'быть',\n",
              " 'бычка',\n",
              " 'бычке',\n",
              " 'бычки',\n",
              " 'бычков',\n",
              " 'бычком',\n",
              " 'бычку',\n",
              " 'бычок',\n",
              " 'бычёк',\n",
              " 'бьет',\n",
              " 'бьётся',\n",
              " 'вазелином',\n",
              " 'вакцину',\n",
              " 'вам',\n",
              " 'вариант',\n",
              " 'варианты',\n",
              " 'варёную',\n",
              " 'вас',\n",
              " 'ваша',\n",
              " 'вашей',\n",
              " 'введении',\n",
              " 'ввела',\n",
              " 'ввели',\n",
              " 'ввести',\n",
              " 'вводила',\n",
              " 'вводили',\n",
              " 'вводить',\n",
              " 'ввёл',\n",
              " 'вдобавок',\n",
              " 'вдох',\n",
              " 'вдруг',\n",
              " 'ведер',\n",
              " 'ведет',\n",
              " 'ведра',\n",
              " 'ведь',\n",
              " 'ведёт',\n",
              " 'везде',\n",
              " 'везти',\n",
              " 'велела',\n",
              " 'велели',\n",
              " 'величиной',\n",
              " 'величины',\n",
              " 'вена',\n",
              " 'вену',\n",
              " 'вены',\n",
              " 'вернуть',\n",
              " 'версию',\n",
              " 'вес',\n",
              " 'веселенький',\n",
              " 'веселый',\n",
              " 'весу',\n",
              " 'весь',\n",
              " 'весьма',\n",
              " 'вет',\n",
              " 'вета',\n",
              " 'ветам',\n",
              " 'ветаптеке',\n",
              " 'ветбицин',\n",
              " 'ветврач',\n",
              " 'ветврача',\n",
              " 'ветврачи',\n",
              " 'ветеренара',\n",
              " 'ветеренаров',\n",
              " 'ветеринар',\n",
              " 'ветеринара',\n",
              " 'ветеринарам',\n",
              " 'ветеринарами',\n",
              " 'ветеринарного',\n",
              " 'ветеринаров',\n",
              " 'ветеринаром',\n",
              " 'ветеринару',\n",
              " 'ветеринары',\n",
              " 'ветеринат',\n",
              " 'ветки',\n",
              " 'ветом',\n",
              " 'вечер',\n",
              " 'вечера',\n",
              " 'вечером',\n",
              " 'вечеру',\n",
              " 'взбодрилась',\n",
              " 'взглянув',\n",
              " 'вздувает',\n",
              " 'вздутия',\n",
              " 'взяла',\n",
              " 'взяли',\n",
              " 'взять',\n",
              " 'вид',\n",
              " 'видел',\n",
              " 'видела',\n",
              " 'видели',\n",
              " 'видимо',\n",
              " 'видимых',\n",
              " 'видите',\n",
              " 'видна',\n",
              " 'видны',\n",
              " 'видят',\n",
              " 'вижу',\n",
              " 'визуально',\n",
              " 'вирус',\n",
              " 'висела',\n",
              " 'висит',\n",
              " 'витам',\n",
              " 'витамин',\n",
              " 'витаминами',\n",
              " 'витаминками',\n",
              " 'витаминки',\n",
              " 'витамины',\n",
              " 'вишневского',\n",
              " 'вкалол',\n",
              " 'вколол',\n",
              " 'вколото',\n",
              " 'вкус',\n",
              " 'вкусное',\n",
              " 'владельцев',\n",
              " 'влажный',\n",
              " 'вливали',\n",
              " 'влить',\n",
              " 'вложений',\n",
              " 'вместе',\n",
              " 'вместо',\n",
              " 'внезапно',\n",
              " 'внешне',\n",
              " 'внешний',\n",
              " 'внешним',\n",
              " 'внизу',\n",
              " 'внимание',\n",
              " 'внимания',\n",
              " 'внутренние',\n",
              " 'внутри',\n",
              " 'внутривенно',\n",
              " 'внутримышечно',\n",
              " 'внутримышечном',\n",
              " 'внятного',\n",
              " 'во',\n",
              " 'вобще',\n",
              " 'вовнутрь',\n",
              " 'вода',\n",
              " 'воде',\n",
              " 'водили',\n",
              " 'водкой',\n",
              " 'водой',\n",
              " 'воду',\n",
              " 'воды',\n",
              " 'водянка',\n",
              " 'воз',\n",
              " 'возвращается',\n",
              " 'возле',\n",
              " 'возможно',\n",
              " 'возникает',\n",
              " 'возникла',\n",
              " 'возникновения',\n",
              " 'возраст',\n",
              " 'возраста',\n",
              " 'возрасте',\n",
              " 'возрастом',\n",
              " 'вокруг',\n",
              " 'волдыри',\n",
              " 'волдырями',\n",
              " 'волк',\n",
              " 'волноваться',\n",
              " 'волнуемся',\n",
              " 'волнует',\n",
              " 'волнуюсь',\n",
              " 'волосики',\n",
              " 'волосоедов',\n",
              " 'волосы',\n",
              " 'вонючем',\n",
              " 'воняет',\n",
              " 'вообще',\n",
              " 'вообщем',\n",
              " 'вопрос',\n",
              " 'вопросе',\n",
              " 'вопросу',\n",
              " 'воскресенье',\n",
              " 'воспаленное',\n",
              " 'воспалились',\n",
              " 'восстановился',\n",
              " 'вот',\n",
              " 'вошла',\n",
              " 'впали',\n",
              " 'впалые',\n",
              " 'впервые',\n",
              " 'впечатлили',\n",
              " 'врач',\n",
              " 'врача',\n",
              " 'врачи',\n",
              " 'врачу',\n",
              " 'временами',\n",
              " 'времени',\n",
              " 'время',\n",
              " 'вроде',\n",
              " 'врождённое',\n",
              " 'все',\n",
              " 'всегда',\n",
              " 'всего',\n",
              " 'всей',\n",
              " 'всем',\n",
              " 'всеми',\n",
              " 'всему',\n",
              " 'всех',\n",
              " 'вскрыв',\n",
              " 'вскрылась',\n",
              " 'вскрытие',\n",
              " 'вскрытии',\n",
              " 'вспомнила',\n",
              " 'вспотел',\n",
              " 'вспухшие',\n",
              " 'вставать',\n",
              " 'вставая',\n",
              " 'вставили',\n",
              " 'вставить',\n",
              " 'вставляем',\n",
              " 'вставлять',\n",
              " 'встает',\n",
              " 'встал',\n",
              " 'встала',\n",
              " 'встанет',\n",
              " 'встать',\n",
              " 'встают',\n",
              " 'встаёт',\n",
              " 'встречал',\n",
              " 'встречался',\n",
              " 'всю',\n",
              " 'вся',\n",
              " 'всяких',\n",
              " 'всё',\n",
              " 'вторая',\n",
              " 'вторник',\n",
              " 'второго',\n",
              " 'второе',\n",
              " 'второй',\n",
              " 'второму',\n",
              " 'вторые',\n",
              " 'вторым',\n",
              " 'вчера',\n",
              " 'вчерашнего',\n",
              " 'вы',\n",
              " 'вывела',\n",
              " 'вывели',\n",
              " 'выгибаются',\n",
              " 'выгула',\n",
              " 'выдавливается',\n",
              " 'выдаивании',\n",
              " 'выдал',\n",
              " 'выделение',\n",
              " 'выделений',\n",
              " 'выделения',\n",
              " 'выделениям',\n",
              " 'выделяется',\n",
              " 'выдоить',\n",
              " 'выдоха',\n",
              " 'выдрана',\n",
              " 'вызвал',\n",
              " 'вызвала',\n",
              " 'вызвали',\n",
              " 'вызывали',\n",
              " 'выкинули',\n",
              " 'вылезла',\n",
              " 'вылезли',\n",
              " 'вылетает',\n",
              " 'вылечить',\n",
              " 'вылечу',\n",
              " 'выменем',\n",
              " 'вымени',\n",
              " 'вымя',\n",
              " 'выпадает',\n",
              " 'выпадать',\n",
              " 'выпасом',\n",
              " 'выпил',\n",
              " 'выпила',\n",
              " 'выплевывает',\n",
              " 'выплюнуть',\n",
              " 'выпоили',\n",
              " 'выпоить',\n",
              " 'выпойки',\n",
              " 'выправилась',\n",
              " 'выпрямили',\n",
              " 'выпрямить',\n",
              " 'выпускал',\n",
              " 'выпускают',\n",
              " 'выпуская',\n",
              " 'выпустил',\n",
              " 'выпустили',\n",
              " 'выражена',\n",
              " 'вырастает',\n",
              " 'вырастала',\n",
              " 'вырастили',\n",
              " 'выращиваете',\n",
              " 'выросла',\n",
              " 'выросло',\n",
              " 'вырывать',\n",
              " 'высокогорный',\n",
              " 'высоты',\n",
              " 'высохла',\n",
              " 'выставила',\n",
              " 'выстригает',\n",
              " 'высыпание',\n",
              " 'высыпания',\n",
              " 'вытащил',\n",
              " 'вытекает',\n",
              " 'вытер',\n",
              " 'вытягивает',\n",
              " 'выход',\n",
              " 'выхода',\n",
              " 'выходила',\n",
              " 'выходили',\n",
              " 'выходим',\n",
              " 'выходит',\n",
              " 'выходить',\n",
              " 'выходят',\n",
              " 'вычесывает',\n",
              " 'выше',\n",
              " 'вышла',\n",
              " 'вышли',\n",
              " 'выявил',\n",
              " 'вялая',\n",
              " 'вяло',\n",
              " 'вялое',\n",
              " 'вялой',\n",
              " 'вялом',\n",
              " 'вялые',\n",
              " 'вялый',\n",
              " 'гаврюша',\n",
              " 'гадюка',\n",
              " 'газов',\n",
              " 'газы',\n",
              " 'галина',\n",
              " 'гамавит',\n",
              " 'гвоздём',\n",
              " 'где',\n",
              " 'гельминтов',\n",
              " 'гемодез',\n",
              " 'генитальную',\n",
              " 'гентамицин',\n",
              " 'гентамицинном',\n",
              " 'герефорд',\n",
              " 'геркулеса',\n",
              " 'геркулесовый',\n",
              " 'гибели',\n",
              " 'гибель',\n",
              " 'гладил',\n",
              " 'гладкая',\n",
              " 'глаз',\n",
              " 'глаза',\n",
              " 'глазами',\n",
              " 'глазом',\n",
              " 'глазу',\n",
              " 'глистов',\n",
              " 'глистогонить',\n",
              " 'глисты',\n",
              " 'глотка',\n",
              " 'глотков',\n",
              " 'глуши',\n",
              " 'глюкоза',\n",
              " 'глюкозой',\n",
              " 'глюкозу',\n",
              " 'глюкозы',\n",
              " 'глюконат',\n",
              " 'глядела',\n",
              " 'гниль',\n",
              " 'гнилью',\n",
              " 'гноится',\n",
              " 'гноиться',\n",
              " 'гной',\n",
              " 'гнойники',\n",
              " 'гнойнички',\n",
              " 'гнойные',\n",
              " 'гнойными',\n",
              " 'гноя',\n",
              " 'гноящийся',\n",
              " 'гнутся',\n",
              " 'го',\n",
              " 'говно',\n",
              " 'говорила',\n",
              " 'говорит',\n",
              " 'говоря',\n",
              " 'говорят',\n",
              " 'год',\n",
              " 'года',\n",
              " 'годности',\n",
              " 'годовалого',\n",
              " 'годовалый',\n",
              " 'году',\n",
              " 'голов',\n",
              " 'головой',\n",
              " 'голову',\n",
              " 'голодную',\n",
              " 'голоду',\n",
              " 'голштинке',\n",
              " 'голые',\n",
              " 'гольфштейн',\n",
              " 'гомовит',\n",
              " 'горбом',\n",
              " 'горбушку',\n",
              " 'горечи',\n",
              " 'город',\n",
              " 'горошину',\n",
              " 'горчит',\n",
              " 'горчить',\n",
              " 'горькие',\n",
              " 'горький',\n",
              " 'горячая',\n",
              " 'горячее',\n",
              " 'горячий',\n",
              " 'горячим',\n",
              " 'гр',\n",
              " 'гравий',\n",
              " 'градуса',\n",
              " 'градусов',\n",
              " 'гранулы',\n",
              " 'гречневую',\n",
              " 'грибок',\n",
              " 'грубая',\n",
              " 'грудина',\n",
              " 'грудь',\n",
              " 'грустная',\n",
              " 'грустные',\n",
              " 'груши',\n",
              " 'грыжа',\n",
              " 'грызет',\n",
              " 'грязный',\n",
              " 'грязь',\n",
              " 'гуляет',\n",
              " 'гуляла',\n",
              " 'густой',\n",
              " 'густые',\n",
              " 'гуще',\n",
              " 'да',\n",
              " 'давала',\n",
              " 'давали',\n",
              " 'давать',\n",
              " 'давится',\n",
              " 'давно',\n",
              " 'даем',\n",
              " 'дает',\n",
              " 'даже',\n",
              " 'дайте',\n",
              " 'дал',\n",
              " 'дала',\n",
              " 'далее',\n",
              " 'дали',\n",
              " 'дальше',\n",
              " 'данные',\n",
              " 'данный',\n",
              " 'данных',\n",
              " 'дать',\n",
              " 'даю',\n",
              " 'даём',\n",
              " 'даёт',\n",
              " 'даётся',\n",
              " 'два',\n",
              " 'двадцатилетней',\n",
              " 'двадцать',\n",
              " 'дважды',\n",
              " 'две',\n",
              " 'двигается',\n",
              " 'двое',\n",
              " 'двоих',\n",
              " 'двойню',\n",
              " 'двор',\n",
              " 'дворе',\n",
              " 'двору',\n",
              " 'двукратно',\n",
              " 'двукратное',\n",
              " 'двух',\n",
              " 'двухнедельного',\n",
              " 'девать',\n",
              " 'девочку',\n",
              " 'девятого',\n",
              " 'дегтеобразная',\n",
              " 'дедовских',\n",
              " 'действительно',\n",
              " 'действует',\n",
              " 'декабре',\n",
              " 'декабрь',\n",
              " 'делаем',\n",
              " 'делает',\n",
              " 'делайте',\n",
              " 'делал',\n",
              " 'делала',\n",
              " 'делали',\n",
              " 'делать',\n",
              " 'делаю',\n",
              " 'делают',\n",
              " 'делимся',\n",
              " 'дело',\n",
              " 'делоть',\n",
              " 'день',\n",
              " 'держа',\n",
              " 'держим',\n",
              " 'держится',\n",
              " 'держу',\n",
              " 'десна',\n",
              " 'десну',\n",
              " 'десятки',\n",
              " 'десяток',\n",
              " 'десять',\n",
              " 'детей',\n",
              " 'детенышей',\n",
              " 'детский',\n",
              " 'джейсерской',\n",
              " 'диагноз',\n",
              " 'диагнозом',\n",
              " 'диагнозы',\n",
              " 'диагностировал',\n",
              " 'диареи',\n",
              " 'дизпаркол',\n",
              " 'диспаркол',\n",
              " 'длинные',\n",
              " 'длинными',\n",
              " 'длительный',\n",
              " 'длится',\n",
              " 'для',\n",
              " 'дневного',\n",
              " 'дней',\n",
              " 'дни',\n",
              " 'дня',\n",
              " 'днях',\n",
              " 'днём',\n",
              " 'до',\n",
              " 'добавил',\n",
              " 'добавили',\n",
              " 'добавить',\n",
              " 'добавки',\n",
              " 'добавляем',\n",
              " 'добавляли',\n",
              " 'добавлять',\n",
              " 'добавок',\n",
              " 'доброго',\n",
              " 'доброе',\n",
              " 'добрый',\n",
              " 'довей',\n",
              " 'доверяем',\n",
              " 'довольно',\n",
              " 'додаиваю',\n",
              " 'доек',\n",
              " 'доение',\n",
              " 'доением',\n",
              " 'доении',\n",
              " 'доения',\n",
              " 'доется',\n",
              " 'дождь',\n",
              " 'доз',\n",
              " 'дозвонится',\n",
              " 'дозвониться',\n",
              " 'дозировку',\n",
              " 'дозы',\n",
              " 'доила',\n",
              " 'доилась',\n",
              " 'доились',\n",
              " 'доильным',\n",
              " 'доим',\n",
              " 'доится',\n",
              " 'доить',\n",
              " 'доиться',\n",
              " 'доишь',\n",
              " 'дойка',\n",
              " 'дойках',\n",
              " 'дойке',\n",
              " 'дойки',\n",
              " 'дойку',\n",
              " 'дойную',\n",
              " 'дойные',\n",
              " 'доктор',\n",
              " 'долго',\n",
              " 'долгое',\n",
              " 'доле',\n",
              " 'долей',\n",
              " 'должен',\n",
              " 'должна',\n",
              " 'должно',\n",
              " 'доли',\n",
              " 'долька',\n",
              " 'дольки',\n",
              " 'дольше',\n",
              " 'долю',\n",
              " 'доля',\n",
              " 'долях',\n",
              " 'дом',\n",
              " 'дома',\n",
              " 'домой',\n",
              " 'доносила',\n",
              " 'дорастают',\n",
              " 'дорогие',\n",
              " 'дорого',\n",
              " 'дорогу',\n",
              " 'доставляют',\n",
              " 'досталась',\n",
              " 'досталось',\n",
              " 'достойной',\n",
              " 'доступа',\n",
              " 'дотрагиваться',\n",
              " 'дохнут',\n",
              " 'дошло',\n",
              " 'дою',\n",
              " 'доятся',\n",
              " 'драбленку',\n",
              " 'дристать',\n",
              " 'дрищет',\n",
              " 'дробленку',\n",
              " 'дробленной',\n",
              " 'дроблёнки',\n",
              " 'дроблёное',\n",
              " 'дрожали',\n",
              " 'дрожит',\n",
              " 'друга',\n",
              " 'другая',\n",
              " 'другие',\n",
              " 'другими',\n",
              " 'других',\n",
              " 'другого',\n",
              " 'другое',\n",
              " 'другой',\n",
              " 'другом',\n",
              " 'другому',\n",
              " 'другую',\n",
              " 'друд',\n",
              " 'дружно',\n",
              " 'друзья',\n",
              " 'дуба',\n",
              " 'дугой',\n",
              " 'думаем',\n",
              " 'думала',\n",
              " 'думали',\n",
              " 'думаю',\n",
              " 'дурак',\n",
              " 'духота',\n",
              " 'души',\n",
              " 'душицы',\n",
              " 'дырочка',\n",
              " 'дыхание',\n",
              " 'дыхательными',\n",
              " 'дышал',\n",
              " 'дышит',\n",
              " 'дёргать',\n",
              " 'дёргаться',\n",
              " 'его',\n",
              " 'еде',\n",
              " 'единичные',\n",
              " 'еду',\n",
              " 'еды',\n",
              " 'ее',\n",
              " 'ей',\n",
              " 'ел',\n",
              " 'ела',\n",
              " 'еле',\n",
              " 'ели',\n",
              " 'ему',\n",
              " 'ерунда',\n",
              " 'если',\n",
              " 'ест',\n",
              " 'есть',\n",
              " 'еще',\n",
              " 'ещё',\n",
              " 'её',\n",
              " 'жалко',\n",
              " 'жалуется',\n",
              " 'жара',\n",
              " 'жаркий',\n",
              " 'жвачка',\n",
              " 'жвачки',\n",
              " 'жвачку',\n",
              " 'жду',\n",
              " 'же',\n",
              " 'жевала',\n",
              " 'жевать',\n",
              " 'жевачка',\n",
              " 'желе',\n",
              " 'железа',\n",
              " 'железо',\n",
              " 'желтого',\n",
              " 'желтый',\n",
              " 'желтым',\n",
              " 'желудках',\n",
              " 'желудок',\n",
              " 'жеребенка',\n",
              " 'жесткую',\n",
              " 'жива',\n",
              " 'живет',\n",
              " 'живот',\n",
              " 'живота',\n",
              " 'животе',\n",
              " 'животик',\n",
              " 'животине',\n",
              " 'животного',\n",
              " 'животные',\n",
              " 'животным',\n",
              " 'животом',\n",
              " 'живут',\n",
              " 'живчики',\n",
              " 'жиденький',\n",
              " 'жидкий',\n",
              " 'жидким',\n",
              " 'жидко',\n",
              " 'жидковат',\n",
              " 'жидковато',\n",
              " 'жидковатый',\n",
              " 'жидкость',\n",
              " 'жидкую',\n",
              " 'жиже',\n",
              " 'жизни',\n",
              " 'жир',\n",
              " 'жира',\n",
              " 'жирное',\n",
              " 'житкостью',\n",
              " 'жом',\n",
              " 'жрут',\n",
              " 'жует',\n",
              " 'жёлто',\n",
              " 'жёлтого',\n",
              " 'жёлтый',\n",
              " 'жёсткое',\n",
              " 'жёсткой',\n",
              " 'за',\n",
              " 'забивается',\n",
              " 'забилось',\n",
              " 'забился',\n",
              " 'забит',\n",
              " 'забитый',\n",
              " 'забой',\n",
              " 'заболевание',\n",
              " 'заболеванием',\n",
              " 'заболевания',\n",
              " 'заболеваниях',\n",
              " 'заболел',\n",
              " 'заболела',\n",
              " 'заболели',\n",
              " 'забрал',\n",
              " 'забыл',\n",
              " 'забыла',\n",
              " 'заварку',\n",
              " 'завели',\n",
              " 'завести',\n",
              " 'завтра',\n",
              " 'загнали',\n",
              " 'загон',\n",
              " 'загоне',\n",
              " 'загону',\n",
              " 'загончик',\n",
              " 'загорело',\n",
              " 'загрустила',\n",
              " 'задатки',\n",
              " 'задержаться',\n",
              " 'зади',\n",
              " 'заднего',\n",
              " 'задней',\n",
              " 'заднем',\n",
              " 'задние',\n",
              " 'задний',\n",
              " 'задним',\n",
              " 'задними',\n",
              " 'задних',\n",
              " 'заднюю',\n",
              " 'задняя',\n",
              " 'задохнутся',\n",
              " 'заживает',\n",
              " 'зажила',\n",
              " 'зажило',\n",
              " 'закануженая',\n",
              " 'закапать',\n",
              " 'заквасили',\n",
              " 'заквашиваем',\n",
              " 'заквашивали',\n",
              " 'заключается',\n",
              " 'заколоть',\n",
              " 'закончелась',\n",
              " 'закончился',\n",
              " 'закупили',\n",
              " 'закуплены',\n",
              " 'закупоривается',\n",
              " ...]"
            ]
          },
          "metadata": {},
          "execution_count": 35
        }
      ]
    },
    {
      "cell_type": "code",
      "metadata": {
        "id": "Ri329PXvGpV2",
        "outputId": "ff3255ab-322b-4f9e-8778-7b81f2f2d56f",
        "colab": {
          "base_uri": "https://localhost:8080/"
        }
      },
      "source": [
        "# для работы со стоп-словами используем готовые списки из библиотеки nltk\n",
        "import nltk\n",
        "nltk.download(\"stopwords\")\n",
        "from nltk.corpus import stopwords\n",
        "from string import punctuation\n",
        "russian_stopwords = stopwords.words(\"russian\")\n",
        "\n",
        "\n",
        "# Удаление знаков пунктуации из текста\n",
        "def remove_punct(text):\n",
        "    table = {33: ' ', 34: ' ', 35: ' ', 36: ' ', 37: ' ', 38: ' ', 39: ' ', 40: ' ', 41: ' ', 42: ' ', 43: ' ', 44: ' ', 45: ' ', 46: ' ', 47: ' ', 58: ' ', 59: ' ', 60: ' ', 61: ' ', 62: ' ', 63: ' ', 64: ' ', 91: ' ', 92: ' ', 93: ' ', 94: ' ', 95: ' ', 96: ' ', 123: ' ', 124: ' ', 125: ' ', 126: ' '}\n",
        "    return text.translate(table)"
      ],
      "execution_count": 37,
      "outputs": [
        {
          "output_type": "stream",
          "name": "stdout",
          "text": [
            "[nltk_data] Downloading package stopwords to /root/nltk_data...\n",
            "[nltk_data]   Unzipping corpora/stopwords.zip.\n"
          ]
        }
      ]
    },
    {
      "cell_type": "code",
      "metadata": {
        "id": "duYCSxk0Cwsi",
        "outputId": "3bb3a55c-f4d1-4972-de81-0d337e3bdc1a",
        "colab": {
          "base_uri": "https://localhost:8080/"
        }
      },
      "source": [
        "import nltk\n",
        "nltk.download(\"stopwords\")\n",
        "from nltk.corpus import stopwords\n",
        "from string import punctuation\n",
        "russian_stopwords = stopwords.words(\"russian\")\n",
        "\n",
        "# Удаление знаков пунктуации из текста\n",
        "def remove_punct(text):\n",
        "    table = {33: ' ', 34: ' ', 35: ' ', 36: ' ', 37: ' ', 38: ' ', 39: ' ', 40: ' ', 41: ' ', 42: ' ', 43: ' ', 44: ' ', 45: ' ', 46: ' ', 47: ' ', 58: ' ', 59: ' ', 60: ' ', 61: ' ', 62: ' ', 63: ' ', 64: ' ', 91: ' ', 92: ' ', 93: ' ', 94: ' ', 95: ' ', 96: ' ', 123: ' ', 124: ' ', 125: ' ', 126: ' '}\n",
        "    return text.translate(table)\n",
        "\n",
        "train['text_clean'] = train['text'].map(lambda x: x.lower())\n",
        "train['text_clean'] = train['text_clean'].map(lambda x: remove_punct(x))\n",
        "train['text_clean'] = train['text_clean'].map(lambda x: x.split(' '))\n",
        "train['text_clean'] = train['text_clean'].map(lambda x: [token for token in x if token not in russian_stopwords\\\n",
        "                                                                  and token != \" \" \\\n",
        "                                                                  and token.strip() not in punctuation])\n",
        "train['text_clean'] = train['text_clean'].map(lambda x: ' '.join(x))"
      ],
      "execution_count": 39,
      "outputs": [
        {
          "output_type": "stream",
          "name": "stdout",
          "text": [
            "[nltk_data] Downloading package stopwords to /root/nltk_data...\n",
            "[nltk_data]   Package stopwords is already up-to-date!\n"
          ]
        }
      ]
    },
    {
      "cell_type": "code",
      "metadata": {
        "id": "QlaesP__JZ0j",
        "outputId": "5a913f73-28e8-410d-9848-ee3b6feba51b",
        "colab": {
          "base_uri": "https://localhost:8080/",
          "height": 204
        }
      },
      "source": [
        "train[train.columns[2:13]].head()"
      ],
      "execution_count": 53,
      "outputs": [
        {
          "output_type": "execute_result",
          "data": {
            "text/html": [
              "<div>\n",
              "<style scoped>\n",
              "    .dataframe tbody tr th:only-of-type {\n",
              "        vertical-align: middle;\n",
              "    }\n",
              "\n",
              "    .dataframe tbody tr th {\n",
              "        vertical-align: top;\n",
              "    }\n",
              "\n",
              "    .dataframe thead th {\n",
              "        text-align: right;\n",
              "    }\n",
              "</style>\n",
              "<table border=\"1\" class=\"dataframe\">\n",
              "  <thead>\n",
              "    <tr style=\"text-align: right;\">\n",
              "      <th></th>\n",
              "      <th>эймериоз</th>\n",
              "      <th>абсцесс</th>\n",
              "      <th>диспепсия молодняка</th>\n",
              "      <th>остертагиоз</th>\n",
              "      <th>мастит</th>\n",
              "      <th>инфекционный ринотрахеит</th>\n",
              "      <th>отёк вымени</th>\n",
              "      <th>тенденит</th>\n",
              "      <th>сибирская язва</th>\n",
              "      <th>лишай</th>\n",
              "      <th>другое</th>\n",
              "    </tr>\n",
              "  </thead>\n",
              "  <tbody>\n",
              "    <tr>\n",
              "      <th>0</th>\n",
              "      <td>0</td>\n",
              "      <td>0</td>\n",
              "      <td>0</td>\n",
              "      <td>0</td>\n",
              "      <td>1</td>\n",
              "      <td>0</td>\n",
              "      <td>0</td>\n",
              "      <td>0</td>\n",
              "      <td>0</td>\n",
              "      <td>0</td>\n",
              "      <td>0</td>\n",
              "    </tr>\n",
              "    <tr>\n",
              "      <th>1</th>\n",
              "      <td>0</td>\n",
              "      <td>0</td>\n",
              "      <td>0</td>\n",
              "      <td>0</td>\n",
              "      <td>0</td>\n",
              "      <td>0</td>\n",
              "      <td>0</td>\n",
              "      <td>0</td>\n",
              "      <td>1</td>\n",
              "      <td>1</td>\n",
              "      <td>1</td>\n",
              "    </tr>\n",
              "    <tr>\n",
              "      <th>2</th>\n",
              "      <td>0</td>\n",
              "      <td>0</td>\n",
              "      <td>0</td>\n",
              "      <td>0</td>\n",
              "      <td>1</td>\n",
              "      <td>0</td>\n",
              "      <td>1</td>\n",
              "      <td>0</td>\n",
              "      <td>0</td>\n",
              "      <td>0</td>\n",
              "      <td>0</td>\n",
              "    </tr>\n",
              "    <tr>\n",
              "      <th>3</th>\n",
              "      <td>0</td>\n",
              "      <td>0</td>\n",
              "      <td>0</td>\n",
              "      <td>0</td>\n",
              "      <td>0</td>\n",
              "      <td>0</td>\n",
              "      <td>0</td>\n",
              "      <td>0</td>\n",
              "      <td>1</td>\n",
              "      <td>1</td>\n",
              "      <td>1</td>\n",
              "    </tr>\n",
              "    <tr>\n",
              "      <th>4</th>\n",
              "      <td>0</td>\n",
              "      <td>0</td>\n",
              "      <td>0</td>\n",
              "      <td>0</td>\n",
              "      <td>1</td>\n",
              "      <td>0</td>\n",
              "      <td>0</td>\n",
              "      <td>0</td>\n",
              "      <td>0</td>\n",
              "      <td>0</td>\n",
              "      <td>0</td>\n",
              "    </tr>\n",
              "  </tbody>\n",
              "</table>\n",
              "</div>"
            ],
            "text/plain": [
              "   эймериоз  абсцесс  диспепсия молодняка  ...  сибирская язва  лишай  другое\n",
              "0         0        0                    0  ...               0      0       0\n",
              "1         0        0                    0  ...               1      1       1\n",
              "2         0        0                    0  ...               0      0       0\n",
              "3         0        0                    0  ...               1      1       1\n",
              "4         0        0                    0  ...               0      0       0\n",
              "\n",
              "[5 rows x 11 columns]"
            ]
          },
          "metadata": {},
          "execution_count": 53
        }
      ]
    },
    {
      "cell_type": "code",
      "metadata": {
        "id": "cWfcO2z-Hl7X"
      },
      "source": [
        "from sklearn.model_selection import train_test_split\n",
        "\n",
        "X_train, X_val, y_train, y_val = train_test_split(pd.DataFrame(train['text_clean']), train[train.columns[2:13]], test_size=0.2)"
      ],
      "execution_count": 43,
      "outputs": []
    },
    {
      "cell_type": "code",
      "metadata": {
        "id": "Om_QhgRQJllS",
        "outputId": "78538fbd-3088-492a-8d6d-aca7aecab173",
        "colab": {
          "base_uri": "https://localhost:8080/"
        }
      },
      "source": [
        "model = OneVsRestClassifier(estimator=CatBoostClassifier(iterations = 200, text_features=['text_clean'], \n",
        "                                                         verbose = 50, allow_writing_files=False))\n",
        "model.fit(X_train, y_train)"
      ],
      "execution_count": 51,
      "outputs": [
        {
          "output_type": "stream",
          "name": "stdout",
          "text": [
            "Learning rate set to 0.024285\n",
            "0:\tlearn: 0.6801199\ttotal: 36.1ms\tremaining: 7.18s\n",
            "50:\tlearn: 0.3146125\ttotal: 1.85s\tremaining: 5.41s\n",
            "100:\tlearn: 0.2247317\ttotal: 3.67s\tremaining: 3.6s\n",
            "150:\tlearn: 0.1819734\ttotal: 5.45s\tremaining: 1.77s\n",
            "199:\tlearn: 0.1520207\ttotal: 7.21s\tremaining: 0us\n",
            "Learning rate set to 0.024285\n",
            "0:\tlearn: 0.6773994\ttotal: 33.3ms\tremaining: 6.63s\n",
            "50:\tlearn: 0.3600280\ttotal: 1.79s\tremaining: 5.23s\n",
            "100:\tlearn: 0.2762113\ttotal: 3.56s\tremaining: 3.49s\n",
            "150:\tlearn: 0.2315130\ttotal: 5.37s\tremaining: 1.74s\n",
            "199:\tlearn: 0.1991901\ttotal: 7.09s\tremaining: 0us\n",
            "Learning rate set to 0.024285\n",
            "0:\tlearn: 0.6783770\ttotal: 35ms\tremaining: 6.97s\n",
            "50:\tlearn: 0.3092426\ttotal: 1.8s\tremaining: 5.27s\n",
            "100:\tlearn: 0.2234612\ttotal: 3.61s\tremaining: 3.54s\n",
            "150:\tlearn: 0.1859984\ttotal: 5.38s\tremaining: 1.74s\n",
            "199:\tlearn: 0.1531711\ttotal: 7.11s\tremaining: 0us\n",
            "Learning rate set to 0.024285\n",
            "0:\tlearn: 0.6759894\ttotal: 35.1ms\tremaining: 7s\n",
            "50:\tlearn: 0.3156981\ttotal: 1.82s\tremaining: 5.33s\n",
            "100:\tlearn: 0.2312183\ttotal: 3.59s\tremaining: 3.52s\n",
            "150:\tlearn: 0.1896902\ttotal: 5.35s\tremaining: 1.74s\n",
            "199:\tlearn: 0.1601771\ttotal: 7.05s\tremaining: 0us\n",
            "Learning rate set to 0.024285\n",
            "0:\tlearn: 0.6764074\ttotal: 33.9ms\tremaining: 6.75s\n",
            "50:\tlearn: 0.2936418\ttotal: 1.81s\tremaining: 5.3s\n",
            "100:\tlearn: 0.2001801\ttotal: 3.61s\tremaining: 3.54s\n",
            "150:\tlearn: 0.1574216\ttotal: 5.41s\tremaining: 1.76s\n",
            "199:\tlearn: 0.1294369\ttotal: 7.16s\tremaining: 0us\n",
            "Learning rate set to 0.024285\n",
            "0:\tlearn: 0.6755340\ttotal: 34.1ms\tremaining: 6.79s\n",
            "50:\tlearn: 0.2897681\ttotal: 1.78s\tremaining: 5.2s\n",
            "100:\tlearn: 0.1981419\ttotal: 3.58s\tremaining: 3.5s\n",
            "150:\tlearn: 0.1543086\ttotal: 5.37s\tremaining: 1.74s\n",
            "199:\tlearn: 0.1244937\ttotal: 7.17s\tremaining: 0us\n",
            "Learning rate set to 0.024285\n",
            "0:\tlearn: 0.6752246\ttotal: 33.8ms\tremaining: 6.73s\n",
            "50:\tlearn: 0.2229487\ttotal: 1.85s\tremaining: 5.41s\n",
            "100:\tlearn: 0.1317272\ttotal: 3.68s\tremaining: 3.61s\n",
            "150:\tlearn: 0.0933659\ttotal: 5.53s\tremaining: 1.79s\n",
            "199:\tlearn: 0.0714347\ttotal: 7.36s\tremaining: 0us\n",
            "Learning rate set to 0.024285\n",
            "0:\tlearn: 0.6765959\ttotal: 35.3ms\tremaining: 7.02s\n",
            "50:\tlearn: 0.2499074\ttotal: 1.81s\tremaining: 5.3s\n",
            "100:\tlearn: 0.1667426\ttotal: 3.63s\tremaining: 3.56s\n",
            "150:\tlearn: 0.1323292\ttotal: 5.44s\tremaining: 1.76s\n",
            "199:\tlearn: 0.1038583\ttotal: 7.17s\tremaining: 0us\n",
            "Learning rate set to 0.024285\n",
            "0:\tlearn: 0.6747180\ttotal: 36.5ms\tremaining: 7.27s\n",
            "50:\tlearn: 0.3292554\ttotal: 1.78s\tremaining: 5.19s\n",
            "100:\tlearn: 0.2505318\ttotal: 3.54s\tremaining: 3.47s\n",
            "150:\tlearn: 0.2117002\ttotal: 5.32s\tremaining: 1.73s\n",
            "199:\tlearn: 0.1758512\ttotal: 7.07s\tremaining: 0us\n",
            "Learning rate set to 0.024285\n",
            "0:\tlearn: 0.6751527\ttotal: 34.5ms\tremaining: 6.86s\n",
            "50:\tlearn: 0.3019264\ttotal: 1.71s\tremaining: 5s\n",
            "100:\tlearn: 0.2162583\ttotal: 3.46s\tremaining: 3.4s\n",
            "150:\tlearn: 0.1731175\ttotal: 5.23s\tremaining: 1.7s\n",
            "199:\tlearn: 0.1427367\ttotal: 6.96s\tremaining: 0us\n",
            "Learning rate set to 0.024285\n",
            "0:\tlearn: 0.6887582\ttotal: 34.8ms\tremaining: 6.92s\n",
            "50:\tlearn: 0.5504444\ttotal: 1.81s\tremaining: 5.3s\n",
            "100:\tlearn: 0.4744838\ttotal: 3.6s\tremaining: 3.53s\n",
            "150:\tlearn: 0.4230628\ttotal: 5.38s\tremaining: 1.74s\n",
            "199:\tlearn: 0.3840355\ttotal: 7.1s\tremaining: 0us\n"
          ]
        },
        {
          "output_type": "execute_result",
          "data": {
            "text/plain": [
              "OneVsRestClassifier(estimator=<catboost.core.CatBoostClassifier object at 0x7fee0c3b7a10>,\n",
              "                    n_jobs=None)"
            ]
          },
          "metadata": {},
          "execution_count": 51
        }
      ]
    },
    {
      "cell_type": "code",
      "metadata": {
        "id": "vddLPOWqIZv6"
      },
      "source": [
        "# pipeline позволяет объединить в один блок трансформер и модель, что упрощает \n",
        "# написание кода и улучшает его читаемость\n",
        "from sklearn.pipeline import Pipeline\n",
        "\n",
        "# TfidfVectorizer преобразует тексты в числовые вектора, отражающие важность \n",
        "# использования каждого слова из некоторого набора слов (количество слов набора \n",
        "# определяет размерность вектора) в каждом тексте\n",
        "from sklearn.feature_extraction.text import TfidfVectorizer\n",
        "\n",
        "# линейный классификатор и классификатор методом ближайших соседей\n",
        "from sklearn.linear_model import SGDClassifier\n",
        "from sklearn.neighbors import KNeighborsClassifier\n",
        "\n",
        "# набор метрик для оценки качества модели\n",
        "from sklearn import metrics\n",
        "\n",
        "# модуль поиска по сетке параметров\n",
        "from sklearn.model_selection import GridSearchCV"
      ],
      "execution_count": null,
      "outputs": []
    },
    {
      "cell_type": "code",
      "metadata": {
        "id": "ON1mEhfrIsZr"
      },
      "source": [
        "sgd_ppl_clf = Pipeline([\n",
        "    ('tfidf', TfidfVectorizer()),\n",
        "    ('sgd_clf', SGDClassifier(random_state=42))])\n",
        "\n",
        "knb_ppl_clf = Pipeline([\n",
        "    ('tfidf', TfidfVectorizer()),\n",
        "    ('knb_clf', KNeighborsClassifier(n_neighbors=10))])\n",
        "\n",
        "sgd_ppl_clf.fit(X_train, y_train)\n",
        "\n",
        "knb_ppl_clf.fit(X_train, y_train)"
      ],
      "execution_count": null,
      "outputs": []
    },
    {
      "cell_type": "code",
      "metadata": {
        "id": "2Zv-oBqiIykj"
      },
      "source": [
        "predicted_sgd = sgd_ppl_clf.predict(X_test)\n",
        "print(metrics.classification_report(predicted_sgd, y_test))"
      ],
      "execution_count": null,
      "outputs": []
    },
    {
      "cell_type": "code",
      "metadata": {
        "id": "O55iZuoII8lo"
      },
      "source": [
        "predicted_sgd = knb_ppl_clf.predict(X_test)\n",
        "print(metrics.classification_report(predicted_sgd, y_test))"
      ],
      "execution_count": null,
      "outputs": []
    },
    {
      "cell_type": "markdown",
      "metadata": {
        "id": "AJ0kZ61mfsk-"
      },
      "source": [
        "# RuBert"
      ]
    },
    {
      "cell_type": "code",
      "metadata": {
        "id": "dlKWQ1EYfuty",
        "outputId": "199e3676-02e8-46ce-f536-e87d75db2b9d",
        "colab": {
          "base_uri": "https://localhost:8080/"
        }
      },
      "source": [
        "! pip install transformers\n",
        "import torch\n",
        "import transformers as ppb # pytorch transformers"
      ],
      "execution_count": 6,
      "outputs": [
        {
          "output_type": "stream",
          "name": "stdout",
          "text": [
            "Collecting transformers\n",
            "  Downloading transformers-4.11.3-py3-none-any.whl (2.9 MB)\n",
            "\u001b[K     |████████████████████████████████| 2.9 MB 5.1 MB/s \n",
            "\u001b[?25hRequirement already satisfied: filelock in /usr/local/lib/python3.7/dist-packages (from transformers) (3.3.0)\n",
            "Collecting tokenizers<0.11,>=0.10.1\n",
            "  Downloading tokenizers-0.10.3-cp37-cp37m-manylinux_2_5_x86_64.manylinux1_x86_64.manylinux_2_12_x86_64.manylinux2010_x86_64.whl (3.3 MB)\n",
            "\u001b[K     |████████████████████████████████| 3.3 MB 43.2 MB/s \n",
            "\u001b[?25hRequirement already satisfied: importlib-metadata in /usr/local/lib/python3.7/dist-packages (from transformers) (4.8.1)\n",
            "Collecting pyyaml>=5.1\n",
            "  Downloading PyYAML-6.0-cp37-cp37m-manylinux_2_5_x86_64.manylinux1_x86_64.manylinux_2_12_x86_64.manylinux2010_x86_64.whl (596 kB)\n",
            "\u001b[K     |████████████████████████████████| 596 kB 44.8 MB/s \n",
            "\u001b[?25hRequirement already satisfied: packaging>=20.0 in /usr/local/lib/python3.7/dist-packages (from transformers) (21.0)\n",
            "Requirement already satisfied: numpy>=1.17 in /usr/local/lib/python3.7/dist-packages (from transformers) (1.19.5)\n",
            "Collecting sacremoses\n",
            "  Downloading sacremoses-0.0.46-py3-none-any.whl (895 kB)\n",
            "\u001b[K     |████████████████████████████████| 895 kB 70.2 MB/s \n",
            "\u001b[?25hRequirement already satisfied: requests in /usr/local/lib/python3.7/dist-packages (from transformers) (2.23.0)\n",
            "Requirement already satisfied: regex!=2019.12.17 in /usr/local/lib/python3.7/dist-packages (from transformers) (2019.12.20)\n",
            "Collecting huggingface-hub>=0.0.17\n",
            "  Downloading huggingface_hub-0.0.19-py3-none-any.whl (56 kB)\n",
            "\u001b[K     |████████████████████████████████| 56 kB 3.0 MB/s \n",
            "\u001b[?25hRequirement already satisfied: tqdm>=4.27 in /usr/local/lib/python3.7/dist-packages (from transformers) (4.62.3)\n",
            "Requirement already satisfied: typing-extensions in /usr/local/lib/python3.7/dist-packages (from huggingface-hub>=0.0.17->transformers) (3.7.4.3)\n",
            "Requirement already satisfied: pyparsing>=2.0.2 in /usr/local/lib/python3.7/dist-packages (from packaging>=20.0->transformers) (2.4.7)\n",
            "Requirement already satisfied: zipp>=0.5 in /usr/local/lib/python3.7/dist-packages (from importlib-metadata->transformers) (3.6.0)\n",
            "Requirement already satisfied: urllib3!=1.25.0,!=1.25.1,<1.26,>=1.21.1 in /usr/local/lib/python3.7/dist-packages (from requests->transformers) (1.24.3)\n",
            "Requirement already satisfied: certifi>=2017.4.17 in /usr/local/lib/python3.7/dist-packages (from requests->transformers) (2021.5.30)\n",
            "Requirement already satisfied: idna<3,>=2.5 in /usr/local/lib/python3.7/dist-packages (from requests->transformers) (2.10)\n",
            "Requirement already satisfied: chardet<4,>=3.0.2 in /usr/local/lib/python3.7/dist-packages (from requests->transformers) (3.0.4)\n",
            "Requirement already satisfied: click in /usr/local/lib/python3.7/dist-packages (from sacremoses->transformers) (7.1.2)\n",
            "Requirement already satisfied: joblib in /usr/local/lib/python3.7/dist-packages (from sacremoses->transformers) (1.0.1)\n",
            "Requirement already satisfied: six in /usr/local/lib/python3.7/dist-packages (from sacremoses->transformers) (1.15.0)\n",
            "Installing collected packages: pyyaml, tokenizers, sacremoses, huggingface-hub, transformers\n",
            "  Attempting uninstall: pyyaml\n",
            "    Found existing installation: PyYAML 3.13\n",
            "    Uninstalling PyYAML-3.13:\n",
            "      Successfully uninstalled PyYAML-3.13\n",
            "Successfully installed huggingface-hub-0.0.19 pyyaml-6.0 sacremoses-0.0.46 tokenizers-0.10.3 transformers-4.11.3\n"
          ]
        }
      ]
    },
    {
      "cell_type": "code",
      "metadata": {
        "id": "fFBEin9bfvR9"
      },
      "source": [
        "# создаем токенайзер для модели BERT, для его инициализации достаточно указать словарь, на котором обучалась предобученная модель\n",
        "# BERT использует собственную токенизацию, никакой предобработки \n",
        "\n",
        "tokenizer = ppb.BertTokenizer(vocab_file='/content/drive/MyDrive/Agrocode Hack/vocab.txt')"
      ],
      "execution_count": 7,
      "outputs": []
    },
    {
      "cell_type": "code",
      "metadata": {
        "id": "6fruAvADfy-e"
      },
      "source": [
        "# токенизируем текст каждого твита, для BERT не требуется никакая дополнительная предобработка, лемматизация и прочее\n",
        "\n",
        "tokenized = train['text'].apply((lambda x: tokenizer.encode(x, add_special_tokens=True)) )"
      ],
      "execution_count": 9,
      "outputs": []
    },
    {
      "cell_type": "code",
      "metadata": {
        "id": "2K-C67JTfz-m",
        "outputId": "c71e9f39-8a18-4e7d-d15b-a1d73e115e56",
        "colab": {
          "base_uri": "https://localhost:8080/"
        }
      },
      "source": [
        "# Пример токенизации текста: на входе - текст, а на выходе имеем массив с номерами токенов из словаря модели BERT\n",
        "\n",
        "print(train['text'][0])\n",
        "print(tokenized[0])\n",
        "print(tokenizer.tokenize(train['text'][0]))"
      ],
      "execution_count": 11,
      "outputs": [
        {
          "output_type": "stream",
          "name": "stdout",
          "text": [
            "Корова, видимо вставая, раздавила себе сосок. Разворотила всё в хлам, вместе с сосковым каналом. Доктор отказался что-либо делать, промыл и уехал. Если бы корова была в запуске сосок бы зарос да может и ладно бы (и трёхсисии нормально живут), но всё осложняется тем, что ей сегодня-завтра телиться и теперь из середины соска постоянно бежит молоко. Чё делать не знаю, хоть садись около неё и плачь. Может кто подскажет выход.\n",
            "[101, 98113, 128, 29898, 25255, 1637, 128, 52983, 3297, 10379, 9097, 1770, 132, 63307, 3297, 4752, 845, 102083, 1565, 128, 6653, 869, 104417, 11170, 44269, 132, 13427, 14408, 1997, 130, 8568, 18716, 128, 7710, 13381, 851, 22793, 132, 7974, 1655, 98113, 3370, 845, 50809, 9097, 1770, 1655, 34780, 6974, 5269, 851, 31140, 1438, 1655, 120, 851, 11173, 30092, 1524, 43880, 22330, 122, 128, 3435, 4752, 84597, 4620, 128, 1997, 841, 852, 12904, 130, 41563, 4442, 6070, 851, 13231, 1703, 17691, 104417, 626, 14825, 51796, 44103, 132, 887, 842, 18716, 1699, 32889, 128, 28809, 13430, 2798, 4929, 20032, 851, 43998, 896, 132, 5269, 10962, 13421, 117527, 1465, 7460, 132, 102]\n",
            "['корова', ',', 'видимо', 'встав', '##ая', ',', 'раздав', '##ила', 'себе', 'сос', '##ок', '.', 'разворот', '##ила', 'все', 'в', 'хл', '##ам', ',', 'вместе', 'с', 'соск', '##овым', 'каналом', '.', 'доктор', 'отказался', 'что', '-', 'либо', 'делать', ',', 'пром', '##ыл', 'и', 'уехал', '.', 'если', 'бы', 'корова', 'была', 'в', 'запуске', 'сос', '##ок', 'бы', 'зарос', 'да', 'может', 'и', 'лад', '##но', 'бы', '(', 'и', 'трех', '##сис', '##ии', 'нормально', 'живут', ')', ',', 'но', 'все', 'осложняется', 'тем', ',', 'что', 'е', '##и', 'сегодня', '-', 'завтра', 'тел', '##иться', 'и', 'теперь', 'из', 'середины', 'соск', '##а', 'постоянно', 'бежит', 'молоко', '.', 'ч', '##е', 'делать', 'не', 'знаю', ',', 'хоть', 'сад', '##ись', 'около', 'нее', 'и', 'плач', '##ь', '.', 'может', 'кто', 'подс', '##каж', '##ет', 'выход', '.']\n"
          ]
        }
      ]
    },
    {
      "cell_type": "code",
      "metadata": {
        "id": "JzHJqDyTf4jr"
      },
      "source": [
        "# инициализируем предобученную модель RuBERT из файла, \n",
        "# в json-файле конфигурации описаны параметры модели\n",
        "\n",
        "config = ppb.BertConfig.from_json_file('/content/drive/MyDrive/Agrocode Hack/config.json')\n",
        "model = ppb.BertModel.from_pretrained('/content/drive/MyDrive/Agrocode Hack/pytorch_model.bin', config = config)"
      ],
      "execution_count": 12,
      "outputs": []
    },
    {
      "cell_type": "code",
      "metadata": {
        "id": "hQg8xGVlf6m3"
      },
      "source": [
        "# из-за того, что каждый твит в датасете имеет разную длину (количество токенов)\n",
        "# мы делаем паддинг - заполнение нулями каждого массива токенов до длины максимального массива\n",
        "# чтобы на выходе получить матрицу из токенизированных текстов одной длины\n",
        "\n",
        "max_len = 0\n",
        "for i in tokenized.values:\n",
        "    if len(i) > max_len:\n",
        "        max_len = len(i)\n",
        "\n",
        "padded = np.array([i + [0]*(max_len-len(i)) for i in tokenized.values])"
      ],
      "execution_count": 13,
      "outputs": []
    },
    {
      "cell_type": "code",
      "metadata": {
        "id": "LOkuKT7Zf9J-",
        "outputId": "4a14af73-6e58-478a-f770-5dc426233f7b",
        "colab": {
          "base_uri": "https://localhost:8080/"
        }
      },
      "source": [
        "# посмотрим на размерность матрицы токенизированных твитов после паддинга\n",
        "\n",
        "np.array(padded).shape"
      ],
      "execution_count": 22,
      "outputs": [
        {
          "output_type": "execute_result",
          "data": {
            "text/plain": [
              "(294, 809)"
            ]
          },
          "metadata": {},
          "execution_count": 22
        }
      ]
    },
    {
      "cell_type": "code",
      "metadata": {
        "id": "Q_cbJ3AOf_xO",
        "outputId": "41b94906-44f8-4156-9a75-2de7eccd6548",
        "colab": {
          "base_uri": "https://localhost:8080/"
        }
      },
      "source": [
        "# Накладываем маску на значимые токены\n",
        "# В данном случае нам важны все слова кроме нулевых токенов, появившихся на предыдущем шаге паддинга\n",
        "\n",
        "attention_mask = np.where(padded != 0, 1, 0)\n",
        "attention_mask.shape"
      ],
      "execution_count": 15,
      "outputs": [
        {
          "output_type": "execute_result",
          "data": {
            "text/plain": [
              "(294, 809)"
            ]
          },
          "metadata": {},
          "execution_count": 15
        }
      ]
    },
    {
      "cell_type": "code",
      "metadata": {
        "id": "dTQ9gm2fgBuw",
        "outputId": "4a89861a-b88c-4559-d418-a7268358022a",
        "colab": {
          "base_uri": "https://localhost:8080/",
          "height": 457,
          "referenced_widgets": [
            "d4041f3d13a8462792197fa4c11eeed3",
            "cbb3f72d14c340e5a3a25d4a21a9d86d",
            "e5591cd7bbb14a438f923f464ba5a2e0",
            "7f499f72e20e4a6a9e1918b6963e5d9c",
            "118bc97c8f9f413cbe809c6b0ab658b6",
            "e20d60477e6342a2be66edd04232359c",
            "65ae0b4796a6430192dbe850d078f580",
            "d00cd31e61eb4cd78a3605db41f5a14f",
            "b94a8d583b954a48b8e2641c881e9cf7",
            "ec2e2e78d4d141b9be1b9d5b95c7f136",
            "b6803e160f9a4e169552f960b1179372"
          ]
        }
      },
      "source": [
        "# а теперь сформируем вектора текстов с помощью модели RuBERT\n",
        "\n",
        "# это не быстрый процесс, импортируем инструмент для визуализации времени обработки в цикле\n",
        "from tqdm import notebook\n",
        "\n",
        "# для того, чтобы модель отработала в условиях ограниченных ресурсов - оперативной памяти, мы разделяем входной датасет на батчи.\n",
        "# при батче в 100 твитов потребление оперативной памяти укладывается в 1Гб\n",
        "batch_size = 1\n",
        "\n",
        "# Делаем пустой список для хранения эмбеддингов (векторов) твитов\n",
        "embeddings = []\n",
        "\n",
        "for i in notebook.tqdm(range(padded.shape[0] // batch_size)):\n",
        "        # преобразуем батч с токенизированными твитами в тензор \n",
        "        # по сути тензор - это многомерный массив, который может быть обработан нейронной сетью\n",
        "        input_ids = torch.LongTensor(padded[batch_size*i:batch_size*(i+1)]) \n",
        "        \n",
        "        # создаем тензор и для подготовленной маски\n",
        "        attention_mask_batch = torch.LongTensor(attention_mask[batch_size*i:batch_size*(i+1)])\n",
        "        \n",
        "        # передаем в модель BERT тензор из твитов и маску - на выходе получаем эмбеддинги - вектор текста твита\n",
        "        # torch.no_grad() - для ускорения инференса модели отключим рассчет градиентов\n",
        "        with torch.no_grad():\n",
        "            last_hidden_states = model(input_ids, attention_mask=attention_mask_batch)\n",
        "        \n",
        "        # в итоге собираем все эмбеддинги твитов в features\n",
        "        embeddings.append(last_hidden_states[0][:,0,:].numpy())"
      ],
      "execution_count": 24,
      "outputs": [
        {
          "output_type": "display_data",
          "data": {
            "application/vnd.jupyter.widget-view+json": {
              "model_id": "d4041f3d13a8462792197fa4c11eeed3",
              "version_minor": 0,
              "version_major": 2
            },
            "text/plain": [
              "  0%|          | 0/294 [00:00<?, ?it/s]"
            ]
          },
          "metadata": {}
        },
        {
          "output_type": "error",
          "ename": "RuntimeError",
          "evalue": "ignored",
          "traceback": [
            "\u001b[0;31m---------------------------------------------------------------------------\u001b[0m",
            "\u001b[0;31mRuntimeError\u001b[0m                              Traceback (most recent call last)",
            "\u001b[0;32m<ipython-input-24-0d4b43f06d13>\u001b[0m in \u001b[0;36m<module>\u001b[0;34m()\u001b[0m\n\u001b[1;32m     22\u001b[0m         \u001b[0;31m# torch.no_grad() - для ускорения инференса модели отключим рассчет градиентов\u001b[0m\u001b[0;34m\u001b[0m\u001b[0;34m\u001b[0m\u001b[0;34m\u001b[0m\u001b[0m\n\u001b[1;32m     23\u001b[0m         \u001b[0;32mwith\u001b[0m \u001b[0mtorch\u001b[0m\u001b[0;34m.\u001b[0m\u001b[0mno_grad\u001b[0m\u001b[0;34m(\u001b[0m\u001b[0;34m)\u001b[0m\u001b[0;34m:\u001b[0m\u001b[0;34m\u001b[0m\u001b[0;34m\u001b[0m\u001b[0m\n\u001b[0;32m---> 24\u001b[0;31m             \u001b[0mlast_hidden_states\u001b[0m \u001b[0;34m=\u001b[0m \u001b[0mmodel\u001b[0m\u001b[0;34m(\u001b[0m\u001b[0minput_ids\u001b[0m\u001b[0;34m,\u001b[0m \u001b[0mattention_mask\u001b[0m\u001b[0;34m=\u001b[0m\u001b[0mattention_mask_batch\u001b[0m\u001b[0;34m)\u001b[0m\u001b[0;34m\u001b[0m\u001b[0;34m\u001b[0m\u001b[0m\n\u001b[0m\u001b[1;32m     25\u001b[0m \u001b[0;34m\u001b[0m\u001b[0m\n\u001b[1;32m     26\u001b[0m         \u001b[0;31m# в итоге собираем все эмбеддинги твитов в features\u001b[0m\u001b[0;34m\u001b[0m\u001b[0;34m\u001b[0m\u001b[0;34m\u001b[0m\u001b[0m\n",
            "\u001b[0;32m/usr/local/lib/python3.7/dist-packages/torch/nn/modules/module.py\u001b[0m in \u001b[0;36m_call_impl\u001b[0;34m(self, *input, **kwargs)\u001b[0m\n\u001b[1;32m   1049\u001b[0m         if not (self._backward_hooks or self._forward_hooks or self._forward_pre_hooks or _global_backward_hooks\n\u001b[1;32m   1050\u001b[0m                 or _global_forward_hooks or _global_forward_pre_hooks):\n\u001b[0;32m-> 1051\u001b[0;31m             \u001b[0;32mreturn\u001b[0m \u001b[0mforward_call\u001b[0m\u001b[0;34m(\u001b[0m\u001b[0;34m*\u001b[0m\u001b[0minput\u001b[0m\u001b[0;34m,\u001b[0m \u001b[0;34m**\u001b[0m\u001b[0mkwargs\u001b[0m\u001b[0;34m)\u001b[0m\u001b[0;34m\u001b[0m\u001b[0;34m\u001b[0m\u001b[0m\n\u001b[0m\u001b[1;32m   1052\u001b[0m         \u001b[0;31m# Do not call functions when jit is used\u001b[0m\u001b[0;34m\u001b[0m\u001b[0;34m\u001b[0m\u001b[0;34m\u001b[0m\u001b[0m\n\u001b[1;32m   1053\u001b[0m         \u001b[0mfull_backward_hooks\u001b[0m\u001b[0;34m,\u001b[0m \u001b[0mnon_full_backward_hooks\u001b[0m \u001b[0;34m=\u001b[0m \u001b[0;34m[\u001b[0m\u001b[0;34m]\u001b[0m\u001b[0;34m,\u001b[0m \u001b[0;34m[\u001b[0m\u001b[0;34m]\u001b[0m\u001b[0;34m\u001b[0m\u001b[0;34m\u001b[0m\u001b[0m\n",
            "\u001b[0;32m/usr/local/lib/python3.7/dist-packages/transformers/models/bert/modeling_bert.py\u001b[0m in \u001b[0;36mforward\u001b[0;34m(self, input_ids, attention_mask, token_type_ids, position_ids, head_mask, inputs_embeds, encoder_hidden_states, encoder_attention_mask, past_key_values, use_cache, output_attentions, output_hidden_states, return_dict)\u001b[0m\n\u001b[1;32m    959\u001b[0m             \u001b[0;32mif\u001b[0m \u001b[0mhasattr\u001b[0m\u001b[0;34m(\u001b[0m\u001b[0mself\u001b[0m\u001b[0;34m.\u001b[0m\u001b[0membeddings\u001b[0m\u001b[0;34m,\u001b[0m \u001b[0;34m\"token_type_ids\"\u001b[0m\u001b[0;34m)\u001b[0m\u001b[0;34m:\u001b[0m\u001b[0;34m\u001b[0m\u001b[0;34m\u001b[0m\u001b[0m\n\u001b[1;32m    960\u001b[0m                 \u001b[0mbuffered_token_type_ids\u001b[0m \u001b[0;34m=\u001b[0m \u001b[0mself\u001b[0m\u001b[0;34m.\u001b[0m\u001b[0membeddings\u001b[0m\u001b[0;34m.\u001b[0m\u001b[0mtoken_type_ids\u001b[0m\u001b[0;34m[\u001b[0m\u001b[0;34m:\u001b[0m\u001b[0;34m,\u001b[0m \u001b[0;34m:\u001b[0m\u001b[0mseq_length\u001b[0m\u001b[0;34m]\u001b[0m\u001b[0;34m\u001b[0m\u001b[0;34m\u001b[0m\u001b[0m\n\u001b[0;32m--> 961\u001b[0;31m                 \u001b[0mbuffered_token_type_ids_expanded\u001b[0m \u001b[0;34m=\u001b[0m \u001b[0mbuffered_token_type_ids\u001b[0m\u001b[0;34m.\u001b[0m\u001b[0mexpand\u001b[0m\u001b[0;34m(\u001b[0m\u001b[0mbatch_size\u001b[0m\u001b[0;34m,\u001b[0m \u001b[0mseq_length\u001b[0m\u001b[0;34m)\u001b[0m\u001b[0;34m\u001b[0m\u001b[0;34m\u001b[0m\u001b[0m\n\u001b[0m\u001b[1;32m    962\u001b[0m                 \u001b[0mtoken_type_ids\u001b[0m \u001b[0;34m=\u001b[0m \u001b[0mbuffered_token_type_ids_expanded\u001b[0m\u001b[0;34m\u001b[0m\u001b[0;34m\u001b[0m\u001b[0m\n\u001b[1;32m    963\u001b[0m             \u001b[0;32melse\u001b[0m\u001b[0;34m:\u001b[0m\u001b[0;34m\u001b[0m\u001b[0;34m\u001b[0m\u001b[0m\n",
            "\u001b[0;31mRuntimeError\u001b[0m: The expanded size of the tensor (809) must match the existing size (512) at non-singleton dimension 1.  Target sizes: [1, 809].  Tensor sizes: [1, 512]"
          ]
        }
      ]
    },
    {
      "cell_type": "code",
      "metadata": {
        "id": "RZwogc_qgEo3"
      },
      "source": [
        "# преобразуем список батчей эмбеддингов в numpy-матрицу \n",
        "features = np.concatenate(embeddings)"
      ],
      "execution_count": null,
      "outputs": []
    },
    {
      "cell_type": "code",
      "metadata": {
        "id": "yKUkcSTagIEH"
      },
      "source": [
        "# выводим размерность полученной матрицы эмбеддингов\n",
        "# данная модель BERT формирует вектора текстов в 768-мерном пространстве признаков\n",
        "features.shape"
      ],
      "execution_count": null,
      "outputs": []
    },
    {
      "cell_type": "code",
      "metadata": {
        "id": "IQdYFV-IgJv_"
      },
      "source": [
        "# Выводим пример эмбеддинга для твита - осторожно много цифр!\n",
        "\n",
        "print(df_tweets['text'][0])\n",
        "print(features[0])"
      ],
      "execution_count": null,
      "outputs": []
    },
    {
      "cell_type": "code",
      "metadata": {
        "id": "VCgOjR7PgOGL"
      },
      "source": [
        "# Импортируем необходимые библиотеки для обучения классификатора на logreg и оценки качества\n",
        "\n",
        "from sklearn.linear_model import LogisticRegression\n",
        "from sklearn.model_selection import cross_val_score\n",
        "from sklearn.model_selection import train_test_split"
      ],
      "execution_count": null,
      "outputs": []
    },
    {
      "cell_type": "code",
      "metadata": {
        "id": "J5s62c2LgPSN"
      },
      "source": [
        "# Сохраним целевую переменную: метку тональности позитив/негатив\n",
        "\n",
        "labels = df_tweets['positive']"
      ],
      "execution_count": null,
      "outputs": []
    },
    {
      "cell_type": "code",
      "metadata": {
        "id": "sBxvr1QegRPt"
      },
      "source": [
        "# Разделяем матрицу признаков и целевую переменную на обучающий и тестовый набор\n",
        "\n",
        "train_features, test_features, train_labels, test_labels = train_test_split(features, labels)"
      ],
      "execution_count": null,
      "outputs": []
    },
    {
      "cell_type": "code",
      "metadata": {
        "id": "OHQj_8YGgTDt"
      },
      "source": [
        "# обучаем классификатор на основе логистической регрессии\n",
        "\n",
        "lr_clf = LogisticRegression()\n",
        "lr_clf.fit(train_features, train_labels)"
      ],
      "execution_count": null,
      "outputs": []
    },
    {
      "cell_type": "code",
      "metadata": {
        "id": "vXCeTSKOgUtg"
      },
      "source": [
        "# делаем пробное предсказание\n",
        "tweet_index = 555\n",
        "\n",
        "print('Text: ' + df_tweets['text'][tweet_index])\n",
        "print('Predict label: ', lr_clf.predict(features[tweet_index:tweet_index+1][:])[0])\n",
        "print('True label: ', df_tweets['positive'][tweet_index])"
      ],
      "execution_count": null,
      "outputs": []
    },
    {
      "cell_type": "code",
      "metadata": {
        "id": "nHyA8AKGgaw5"
      },
      "source": [
        "# оцениваем accuracy на тестовой выборке\n",
        "\n",
        "lr_clf.score(test_features, test_labels)"
      ],
      "execution_count": null,
      "outputs": []
    },
    {
      "cell_type": "markdown",
      "metadata": {
        "id": "VqWHAu_x2yB8"
      },
      "source": [
        "# Базовая модель"
      ]
    },
    {
      "cell_type": "markdown",
      "metadata": {
        "id": "DSj_XUcE2yB8"
      },
      "source": [
        "В качестве базового решения используется CatBoostClassifier, поддерживающий текстовые фичи. Помимо этого задача является мультилейбл классификацией, поэтому модель обернута в OneVsRestClassifier."
      ]
    },
    {
      "cell_type": "markdown",
      "metadata": {
        "id": "ojm3f5jC2yB9"
      },
      "source": [
        "**Делим данные на тренировочную и валидационную выборку**"
      ]
    },
    {
      "cell_type": "code",
      "metadata": {
        "id": "RmIoArUB2yB-"
      },
      "source": [
        "X_train, X_val, y_train, y_val = train_test_split(pd.DataFrame(train['text']), train[train.columns[2:]], test_size=0.2)"
      ],
      "execution_count": null,
      "outputs": []
    },
    {
      "cell_type": "markdown",
      "metadata": {
        "id": "admpG7F_2yB_"
      },
      "source": [
        "**Обучаем модель**"
      ]
    },
    {
      "cell_type": "code",
      "metadata": {
        "colab": {
          "base_uri": "https://localhost:8080/"
        },
        "id": "q0Rigjsa2yB_",
        "outputId": "1eef9cce-4ac5-4e9e-e33d-f49659f24cb0"
      },
      "source": [
        "model = OneVsRestClassifier(estimator=CatBoostClassifier(iterations = 100, text_features=['text'], \n",
        "                                                         verbose = 50, allow_writing_files=False))\n",
        "model.fit(X_train, y_train)"
      ],
      "execution_count": null,
      "outputs": [
        {
          "output_type": "stream",
          "name": "stdout",
          "text": [
            "Learning rate set to 0.045854\n",
            "0:\tlearn: 0.6750223\ttotal: 90.4ms\tremaining: 8.95s\n",
            "50:\tlearn: 0.3992793\ttotal: 1.85s\tremaining: 1.78s\n",
            "99:\tlearn: 0.3346489\ttotal: 3.54s\tremaining: 0us\n",
            "Learning rate set to 0.045854\n",
            "0:\tlearn: 0.6736297\ttotal: 35.3ms\tremaining: 3.5s\n",
            "50:\tlearn: 0.3749512\ttotal: 1.75s\tremaining: 1.68s\n",
            "99:\tlearn: 0.3172577\ttotal: 3.4s\tremaining: 0us\n",
            "Learning rate set to 0.045854\n",
            "0:\tlearn: 0.6745299\ttotal: 34ms\tremaining: 3.37s\n",
            "50:\tlearn: 0.3882340\ttotal: 1.78s\tremaining: 1.71s\n",
            "99:\tlearn: 0.3269351\ttotal: 3.48s\tremaining: 0us\n",
            "Learning rate set to 0.045854\n",
            "0:\tlearn: 0.6714341\ttotal: 38.2ms\tremaining: 3.78s\n",
            "50:\tlearn: 0.3663993\ttotal: 1.74s\tremaining: 1.68s\n",
            "99:\tlearn: 0.3109305\ttotal: 3.42s\tremaining: 0us\n",
            "Learning rate set to 0.045854\n",
            "0:\tlearn: 0.6741982\ttotal: 35.9ms\tremaining: 3.56s\n",
            "50:\tlearn: 0.3477512\ttotal: 1.76s\tremaining: 1.7s\n",
            "99:\tlearn: 0.2814248\ttotal: 3.43s\tremaining: 0us\n",
            "Learning rate set to 0.045854\n",
            "0:\tlearn: 0.6723350\ttotal: 33.7ms\tremaining: 3.33s\n",
            "50:\tlearn: 0.3471807\ttotal: 1.74s\tremaining: 1.67s\n",
            "99:\tlearn: 0.2874300\ttotal: 3.4s\tremaining: 0us\n",
            "Learning rate set to 0.045854\n",
            "0:\tlearn: 0.6724568\ttotal: 35.2ms\tremaining: 3.48s\n",
            "50:\tlearn: 0.3006439\ttotal: 1.71s\tremaining: 1.64s\n",
            "99:\tlearn: 0.2292184\ttotal: 3.37s\tremaining: 0us\n",
            "Learning rate set to 0.045854\n",
            "0:\tlearn: 0.6645785\ttotal: 33.3ms\tremaining: 3.3s\n",
            "50:\tlearn: 0.2782994\ttotal: 1.74s\tremaining: 1.67s\n",
            "99:\tlearn: 0.2042147\ttotal: 3.42s\tremaining: 0us\n",
            "Learning rate set to 0.045854\n",
            "0:\tlearn: 0.6696056\ttotal: 34.5ms\tremaining: 3.41s\n",
            "50:\tlearn: 0.3321294\ttotal: 1.79s\tremaining: 1.72s\n",
            "99:\tlearn: 0.2782472\ttotal: 3.46s\tremaining: 0us\n",
            "Learning rate set to 0.045854\n",
            "0:\tlearn: 0.6694229\ttotal: 33.9ms\tremaining: 3.35s\n",
            "50:\tlearn: 0.3117814\ttotal: 1.76s\tremaining: 1.69s\n",
            "99:\tlearn: 0.2461718\ttotal: 3.45s\tremaining: 0us\n",
            "Learning rate set to 0.045854\n",
            "0:\tlearn: 0.6887485\ttotal: 34ms\tremaining: 3.37s\n",
            "50:\tlearn: 0.6067623\ttotal: 1.73s\tremaining: 1.66s\n",
            "99:\tlearn: 0.5530198\ttotal: 3.42s\tremaining: 0us\n"
          ]
        },
        {
          "output_type": "execute_result",
          "data": {
            "text/plain": [
              "OneVsRestClassifier(estimator=<catboost.core.CatBoostClassifier object at 0x7f6c6a26ae10>,\n",
              "                    n_jobs=None)"
            ]
          },
          "metadata": {},
          "execution_count": 7
        }
      ]
    },
    {
      "cell_type": "markdown",
      "metadata": {
        "id": "0Hvu1xwe2yCA"
      },
      "source": [
        "# Считаем метрику"
      ]
    },
    {
      "cell_type": "markdown",
      "metadata": {
        "id": "NQvN6Xl02yCA"
      },
      "source": [
        "В качестве \"gt\" (ground truth) функция принимает на вход датафрейм/массив из 10 столбцов (все классы, кроме \"другое\"). Предсказанные значения – \"pr\", также должны быть либо в виде датафрейма, либо в виде массива."
      ]
    },
    {
      "cell_type": "code",
      "metadata": {
        "id": "_HNwUn_K2yCB"
      },
      "source": [
        "def log_loss_score(gt, pr):\n",
        "    \n",
        "    log_loss_ = 0\n",
        "    \n",
        "    gt = np.array(gt)\n",
        "    \n",
        "    for i in range(10):\n",
        "        log_loss_ += log_loss(gt[:, i], pr[:, i])\n",
        "        \n",
        "    return log_loss_ / 10"
      ],
      "execution_count": 46,
      "outputs": []
    },
    {
      "cell_type": "code",
      "metadata": {
        "colab": {
          "base_uri": "https://localhost:8080/"
        },
        "id": "X23ZA9IF2yCB",
        "outputId": "0816b754-c419-44fe-f5ae-3eff62d5ed36"
      },
      "source": [
        "log_loss_score(y_val, model.predict_proba(X_val))"
      ],
      "execution_count": 52,
      "outputs": [
        {
          "output_type": "execute_result",
          "data": {
            "text/plain": [
              "0.3115961620118631"
            ]
          },
          "metadata": {},
          "execution_count": 52
        }
      ]
    },
    {
      "cell_type": "markdown",
      "metadata": {
        "id": "AfB5nhR_2yCC"
      },
      "source": [
        "# Создание файла отправки"
      ]
    },
    {
      "cell_type": "markdown",
      "metadata": {
        "id": "OLaH3opl2yCC"
      },
      "source": [
        "В файле с ответами должны быть вероятности для каждого класса. Сумма вероятностей в каждой строке может быть больше 1."
      ]
    },
    {
      "cell_type": "code",
      "metadata": {
        "id": "c6aLldaL2yCD",
        "outputId": "d979a382-2657-4e44-eb37-9bd3ab0461c8",
        "colab": {
          "base_uri": "https://localhost:8080/",
          "height": 425
        }
      },
      "source": [
        "submission_columns = ['text_id'] + list(train.columns[2:-1])\n",
        "submission = pd.concat([test['text_id'], pd.DataFrame(model.predict_proba(pd.DataFrame(test['text']))[:, :12])], axis=1)\n",
        "submission.columns = submission_columns"
      ],
      "execution_count": 50,
      "outputs": [
        {
          "output_type": "error",
          "ename": "CatBoostError",
          "evalue": "ignored",
          "traceback": [
            "\u001b[0;31m---------------------------------------------------------------------------\u001b[0m",
            "\u001b[0;31mCatBoostError\u001b[0m                             Traceback (most recent call last)",
            "\u001b[0;32m<ipython-input-50-ea6c003ce87c>\u001b[0m in \u001b[0;36m<module>\u001b[0;34m()\u001b[0m\n\u001b[1;32m      1\u001b[0m \u001b[0msubmission_columns\u001b[0m \u001b[0;34m=\u001b[0m \u001b[0;34m[\u001b[0m\u001b[0;34m'text_id'\u001b[0m\u001b[0;34m]\u001b[0m \u001b[0;34m+\u001b[0m \u001b[0mlist\u001b[0m\u001b[0;34m(\u001b[0m\u001b[0mtrain\u001b[0m\u001b[0;34m.\u001b[0m\u001b[0mcolumns\u001b[0m\u001b[0;34m[\u001b[0m\u001b[0;36m2\u001b[0m\u001b[0;34m:\u001b[0m\u001b[0;34m-\u001b[0m\u001b[0;36m1\u001b[0m\u001b[0;34m]\u001b[0m\u001b[0;34m)\u001b[0m\u001b[0;34m\u001b[0m\u001b[0;34m\u001b[0m\u001b[0m\n\u001b[0;32m----> 2\u001b[0;31m \u001b[0msubmission\u001b[0m \u001b[0;34m=\u001b[0m \u001b[0mpd\u001b[0m\u001b[0;34m.\u001b[0m\u001b[0mconcat\u001b[0m\u001b[0;34m(\u001b[0m\u001b[0;34m[\u001b[0m\u001b[0mtest\u001b[0m\u001b[0;34m[\u001b[0m\u001b[0;34m'text_id'\u001b[0m\u001b[0;34m]\u001b[0m\u001b[0;34m,\u001b[0m \u001b[0mpd\u001b[0m\u001b[0;34m.\u001b[0m\u001b[0mDataFrame\u001b[0m\u001b[0;34m(\u001b[0m\u001b[0mmodel\u001b[0m\u001b[0;34m.\u001b[0m\u001b[0mpredict_proba\u001b[0m\u001b[0;34m(\u001b[0m\u001b[0mpd\u001b[0m\u001b[0;34m.\u001b[0m\u001b[0mDataFrame\u001b[0m\u001b[0;34m(\u001b[0m\u001b[0mtest\u001b[0m\u001b[0;34m[\u001b[0m\u001b[0;34m'text'\u001b[0m\u001b[0;34m]\u001b[0m\u001b[0;34m)\u001b[0m\u001b[0;34m)\u001b[0m\u001b[0;34m[\u001b[0m\u001b[0;34m:\u001b[0m\u001b[0;34m,\u001b[0m \u001b[0;34m:\u001b[0m\u001b[0;36m12\u001b[0m\u001b[0;34m]\u001b[0m\u001b[0;34m)\u001b[0m\u001b[0;34m]\u001b[0m\u001b[0;34m,\u001b[0m \u001b[0maxis\u001b[0m\u001b[0;34m=\u001b[0m\u001b[0;36m1\u001b[0m\u001b[0;34m)\u001b[0m\u001b[0;34m\u001b[0m\u001b[0;34m\u001b[0m\u001b[0m\n\u001b[0m\u001b[1;32m      3\u001b[0m \u001b[0msubmission\u001b[0m\u001b[0;34m.\u001b[0m\u001b[0mcolumns\u001b[0m \u001b[0;34m=\u001b[0m \u001b[0msubmission_columns\u001b[0m\u001b[0;34m\u001b[0m\u001b[0;34m\u001b[0m\u001b[0m\n",
            "\u001b[0;32m/usr/local/lib/python3.7/dist-packages/sklearn/utils/metaestimators.py\u001b[0m in \u001b[0;36m<lambda>\u001b[0;34m(*args, **kwargs)\u001b[0m\n\u001b[1;32m    114\u001b[0m \u001b[0;34m\u001b[0m\u001b[0m\n\u001b[1;32m    115\u001b[0m         \u001b[0;31m# lambda, but not partial, allows help() to work with update_wrapper\u001b[0m\u001b[0;34m\u001b[0m\u001b[0;34m\u001b[0m\u001b[0;34m\u001b[0m\u001b[0m\n\u001b[0;32m--> 116\u001b[0;31m         \u001b[0mout\u001b[0m \u001b[0;34m=\u001b[0m \u001b[0;32mlambda\u001b[0m \u001b[0;34m*\u001b[0m\u001b[0margs\u001b[0m\u001b[0;34m,\u001b[0m \u001b[0;34m**\u001b[0m\u001b[0mkwargs\u001b[0m\u001b[0;34m:\u001b[0m \u001b[0mself\u001b[0m\u001b[0;34m.\u001b[0m\u001b[0mfn\u001b[0m\u001b[0;34m(\u001b[0m\u001b[0mobj\u001b[0m\u001b[0;34m,\u001b[0m \u001b[0;34m*\u001b[0m\u001b[0margs\u001b[0m\u001b[0;34m,\u001b[0m \u001b[0;34m**\u001b[0m\u001b[0mkwargs\u001b[0m\u001b[0;34m)\u001b[0m\u001b[0;34m\u001b[0m\u001b[0;34m\u001b[0m\u001b[0m\n\u001b[0m\u001b[1;32m    117\u001b[0m         \u001b[0;31m# update the docstring of the returned function\u001b[0m\u001b[0;34m\u001b[0m\u001b[0;34m\u001b[0m\u001b[0;34m\u001b[0m\u001b[0m\n\u001b[1;32m    118\u001b[0m         \u001b[0mupdate_wrapper\u001b[0m\u001b[0;34m(\u001b[0m\u001b[0mout\u001b[0m\u001b[0;34m,\u001b[0m \u001b[0mself\u001b[0m\u001b[0;34m.\u001b[0m\u001b[0mfn\u001b[0m\u001b[0;34m)\u001b[0m\u001b[0;34m\u001b[0m\u001b[0;34m\u001b[0m\u001b[0m\n",
            "\u001b[0;32m/usr/local/lib/python3.7/dist-packages/sklearn/multiclass.py\u001b[0m in \u001b[0;36mpredict_proba\u001b[0;34m(self, X)\u001b[0m\n\u001b[1;32m    365\u001b[0m         \u001b[0;31m# Y[i, j] gives the probability that sample i has the label j.\u001b[0m\u001b[0;34m\u001b[0m\u001b[0;34m\u001b[0m\u001b[0;34m\u001b[0m\u001b[0m\n\u001b[1;32m    366\u001b[0m         \u001b[0;31m# In the multi-label case, these are not disjoint.\u001b[0m\u001b[0;34m\u001b[0m\u001b[0;34m\u001b[0m\u001b[0;34m\u001b[0m\u001b[0m\n\u001b[0;32m--> 367\u001b[0;31m         \u001b[0mY\u001b[0m \u001b[0;34m=\u001b[0m \u001b[0mnp\u001b[0m\u001b[0;34m.\u001b[0m\u001b[0marray\u001b[0m\u001b[0;34m(\u001b[0m\u001b[0;34m[\u001b[0m\u001b[0me\u001b[0m\u001b[0;34m.\u001b[0m\u001b[0mpredict_proba\u001b[0m\u001b[0;34m(\u001b[0m\u001b[0mX\u001b[0m\u001b[0;34m)\u001b[0m\u001b[0;34m[\u001b[0m\u001b[0;34m:\u001b[0m\u001b[0;34m,\u001b[0m \u001b[0;36m1\u001b[0m\u001b[0;34m]\u001b[0m \u001b[0;32mfor\u001b[0m \u001b[0me\u001b[0m \u001b[0;32min\u001b[0m \u001b[0mself\u001b[0m\u001b[0;34m.\u001b[0m\u001b[0mestimators_\u001b[0m\u001b[0;34m]\u001b[0m\u001b[0;34m)\u001b[0m\u001b[0;34m.\u001b[0m\u001b[0mT\u001b[0m\u001b[0;34m\u001b[0m\u001b[0;34m\u001b[0m\u001b[0m\n\u001b[0m\u001b[1;32m    368\u001b[0m \u001b[0;34m\u001b[0m\u001b[0m\n\u001b[1;32m    369\u001b[0m         \u001b[0;32mif\u001b[0m \u001b[0mlen\u001b[0m\u001b[0;34m(\u001b[0m\u001b[0mself\u001b[0m\u001b[0;34m.\u001b[0m\u001b[0mestimators_\u001b[0m\u001b[0;34m)\u001b[0m \u001b[0;34m==\u001b[0m \u001b[0;36m1\u001b[0m\u001b[0;34m:\u001b[0m\u001b[0;34m\u001b[0m\u001b[0;34m\u001b[0m\u001b[0m\n",
            "\u001b[0;32m/usr/local/lib/python3.7/dist-packages/sklearn/multiclass.py\u001b[0m in \u001b[0;36m<listcomp>\u001b[0;34m(.0)\u001b[0m\n\u001b[1;32m    365\u001b[0m         \u001b[0;31m# Y[i, j] gives the probability that sample i has the label j.\u001b[0m\u001b[0;34m\u001b[0m\u001b[0;34m\u001b[0m\u001b[0;34m\u001b[0m\u001b[0m\n\u001b[1;32m    366\u001b[0m         \u001b[0;31m# In the multi-label case, these are not disjoint.\u001b[0m\u001b[0;34m\u001b[0m\u001b[0;34m\u001b[0m\u001b[0;34m\u001b[0m\u001b[0m\n\u001b[0;32m--> 367\u001b[0;31m         \u001b[0mY\u001b[0m \u001b[0;34m=\u001b[0m \u001b[0mnp\u001b[0m\u001b[0;34m.\u001b[0m\u001b[0marray\u001b[0m\u001b[0;34m(\u001b[0m\u001b[0;34m[\u001b[0m\u001b[0me\u001b[0m\u001b[0;34m.\u001b[0m\u001b[0mpredict_proba\u001b[0m\u001b[0;34m(\u001b[0m\u001b[0mX\u001b[0m\u001b[0;34m)\u001b[0m\u001b[0;34m[\u001b[0m\u001b[0;34m:\u001b[0m\u001b[0;34m,\u001b[0m \u001b[0;36m1\u001b[0m\u001b[0;34m]\u001b[0m \u001b[0;32mfor\u001b[0m \u001b[0me\u001b[0m \u001b[0;32min\u001b[0m \u001b[0mself\u001b[0m\u001b[0;34m.\u001b[0m\u001b[0mestimators_\u001b[0m\u001b[0;34m]\u001b[0m\u001b[0;34m)\u001b[0m\u001b[0;34m.\u001b[0m\u001b[0mT\u001b[0m\u001b[0;34m\u001b[0m\u001b[0;34m\u001b[0m\u001b[0m\n\u001b[0m\u001b[1;32m    368\u001b[0m \u001b[0;34m\u001b[0m\u001b[0m\n\u001b[1;32m    369\u001b[0m         \u001b[0;32mif\u001b[0m \u001b[0mlen\u001b[0m\u001b[0;34m(\u001b[0m\u001b[0mself\u001b[0m\u001b[0;34m.\u001b[0m\u001b[0mestimators_\u001b[0m\u001b[0;34m)\u001b[0m \u001b[0;34m==\u001b[0m \u001b[0;36m1\u001b[0m\u001b[0;34m:\u001b[0m\u001b[0;34m\u001b[0m\u001b[0;34m\u001b[0m\u001b[0m\n",
            "\u001b[0;32m/usr/local/lib/python3.7/dist-packages/catboost/core.py\u001b[0m in \u001b[0;36mpredict_proba\u001b[0;34m(self, X, ntree_start, ntree_end, thread_count, verbose, task_type)\u001b[0m\n\u001b[1;32m   4809\u001b[0m                 \u001b[0;32mwith\u001b[0m \u001b[0mprobability\u001b[0m \u001b[0;32mfor\u001b[0m \u001b[0mevery\u001b[0m \u001b[0;32mclass\u001b[0m \u001b[0;32mfor\u001b[0m \u001b[0meach\u001b[0m \u001b[0mobject\u001b[0m\u001b[0;34m.\u001b[0m\u001b[0;34m\u001b[0m\u001b[0;34m\u001b[0m\u001b[0m\n\u001b[1;32m   4810\u001b[0m         \"\"\"\n\u001b[0;32m-> 4811\u001b[0;31m         \u001b[0;32mreturn\u001b[0m \u001b[0mself\u001b[0m\u001b[0;34m.\u001b[0m\u001b[0m_predict\u001b[0m\u001b[0;34m(\u001b[0m\u001b[0mX\u001b[0m\u001b[0;34m,\u001b[0m \u001b[0;34m'Probability'\u001b[0m\u001b[0;34m,\u001b[0m \u001b[0mntree_start\u001b[0m\u001b[0;34m,\u001b[0m \u001b[0mntree_end\u001b[0m\u001b[0;34m,\u001b[0m \u001b[0mthread_count\u001b[0m\u001b[0;34m,\u001b[0m \u001b[0mverbose\u001b[0m\u001b[0;34m,\u001b[0m \u001b[0;34m'predict_proba'\u001b[0m\u001b[0;34m,\u001b[0m \u001b[0mtask_type\u001b[0m\u001b[0;34m)\u001b[0m\u001b[0;34m\u001b[0m\u001b[0;34m\u001b[0m\u001b[0m\n\u001b[0m\u001b[1;32m   4812\u001b[0m \u001b[0;34m\u001b[0m\u001b[0m\n\u001b[1;32m   4813\u001b[0m \u001b[0;34m\u001b[0m\u001b[0m\n",
            "\u001b[0;32m/usr/local/lib/python3.7/dist-packages/catboost/core.py\u001b[0m in \u001b[0;36m_predict\u001b[0;34m(self, data, prediction_type, ntree_start, ntree_end, thread_count, verbose, parent_method_name, task_type)\u001b[0m\n\u001b[1;32m   2218\u001b[0m         \u001b[0mself\u001b[0m\u001b[0;34m.\u001b[0m\u001b[0m_validate_prediction_type\u001b[0m\u001b[0;34m(\u001b[0m\u001b[0mprediction_type\u001b[0m\u001b[0;34m)\u001b[0m\u001b[0;34m\u001b[0m\u001b[0;34m\u001b[0m\u001b[0m\n\u001b[1;32m   2219\u001b[0m \u001b[0;34m\u001b[0m\u001b[0m\n\u001b[0;32m-> 2220\u001b[0;31m         \u001b[0mpredictions\u001b[0m \u001b[0;34m=\u001b[0m \u001b[0mself\u001b[0m\u001b[0;34m.\u001b[0m\u001b[0m_base_predict\u001b[0m\u001b[0;34m(\u001b[0m\u001b[0mdata\u001b[0m\u001b[0;34m,\u001b[0m \u001b[0mprediction_type\u001b[0m\u001b[0;34m,\u001b[0m \u001b[0mntree_start\u001b[0m\u001b[0;34m,\u001b[0m \u001b[0mntree_end\u001b[0m\u001b[0;34m,\u001b[0m \u001b[0mthread_count\u001b[0m\u001b[0;34m,\u001b[0m \u001b[0mverbose\u001b[0m\u001b[0;34m,\u001b[0m \u001b[0mtask_type\u001b[0m\u001b[0;34m)\u001b[0m\u001b[0;34m\u001b[0m\u001b[0;34m\u001b[0m\u001b[0m\n\u001b[0m\u001b[1;32m   2221\u001b[0m         \u001b[0;32mreturn\u001b[0m \u001b[0mpredictions\u001b[0m\u001b[0;34m[\u001b[0m\u001b[0;36m0\u001b[0m\u001b[0;34m]\u001b[0m \u001b[0;32mif\u001b[0m \u001b[0mdata_is_single_object\u001b[0m \u001b[0;32melse\u001b[0m \u001b[0mpredictions\u001b[0m\u001b[0;34m\u001b[0m\u001b[0;34m\u001b[0m\u001b[0m\n\u001b[1;32m   2222\u001b[0m \u001b[0;34m\u001b[0m\u001b[0m\n",
            "\u001b[0;32m/usr/local/lib/python3.7/dist-packages/catboost/core.py\u001b[0m in \u001b[0;36m_base_predict\u001b[0;34m(self, pool, prediction_type, ntree_start, ntree_end, thread_count, verbose, task_type)\u001b[0m\n\u001b[1;32m   1514\u001b[0m \u001b[0;34m\u001b[0m\u001b[0m\n\u001b[1;32m   1515\u001b[0m     \u001b[0;32mdef\u001b[0m \u001b[0m_base_predict\u001b[0m\u001b[0;34m(\u001b[0m\u001b[0mself\u001b[0m\u001b[0;34m,\u001b[0m \u001b[0mpool\u001b[0m\u001b[0;34m,\u001b[0m \u001b[0mprediction_type\u001b[0m\u001b[0;34m,\u001b[0m \u001b[0mntree_start\u001b[0m\u001b[0;34m,\u001b[0m \u001b[0mntree_end\u001b[0m\u001b[0;34m,\u001b[0m \u001b[0mthread_count\u001b[0m\u001b[0;34m,\u001b[0m \u001b[0mverbose\u001b[0m\u001b[0;34m,\u001b[0m \u001b[0mtask_type\u001b[0m\u001b[0;34m)\u001b[0m\u001b[0;34m:\u001b[0m\u001b[0;34m\u001b[0m\u001b[0;34m\u001b[0m\u001b[0m\n\u001b[0;32m-> 1516\u001b[0;31m         \u001b[0;32mreturn\u001b[0m \u001b[0mself\u001b[0m\u001b[0;34m.\u001b[0m\u001b[0m_object\u001b[0m\u001b[0;34m.\u001b[0m\u001b[0m_base_predict\u001b[0m\u001b[0;34m(\u001b[0m\u001b[0mpool\u001b[0m\u001b[0;34m,\u001b[0m \u001b[0mprediction_type\u001b[0m\u001b[0;34m,\u001b[0m \u001b[0mntree_start\u001b[0m\u001b[0;34m,\u001b[0m \u001b[0mntree_end\u001b[0m\u001b[0;34m,\u001b[0m \u001b[0mthread_count\u001b[0m\u001b[0;34m,\u001b[0m \u001b[0mverbose\u001b[0m\u001b[0;34m,\u001b[0m \u001b[0mtask_type\u001b[0m\u001b[0;34m)\u001b[0m\u001b[0;34m\u001b[0m\u001b[0;34m\u001b[0m\u001b[0m\n\u001b[0m\u001b[1;32m   1517\u001b[0m \u001b[0;34m\u001b[0m\u001b[0m\n\u001b[1;32m   1518\u001b[0m     \u001b[0;32mdef\u001b[0m \u001b[0m_base_virtual_ensembles_predict\u001b[0m\u001b[0;34m(\u001b[0m\u001b[0mself\u001b[0m\u001b[0;34m,\u001b[0m \u001b[0mpool\u001b[0m\u001b[0;34m,\u001b[0m \u001b[0mprediction_type\u001b[0m\u001b[0;34m,\u001b[0m \u001b[0mntree_end\u001b[0m\u001b[0;34m,\u001b[0m \u001b[0mvirtual_ensembles_count\u001b[0m\u001b[0;34m,\u001b[0m \u001b[0mthread_count\u001b[0m\u001b[0;34m,\u001b[0m \u001b[0mverbose\u001b[0m\u001b[0;34m)\u001b[0m\u001b[0;34m:\u001b[0m\u001b[0;34m\u001b[0m\u001b[0;34m\u001b[0m\u001b[0m\n",
            "\u001b[0;32m_catboost.pyx\u001b[0m in \u001b[0;36m_catboost._CatBoost._base_predict\u001b[0;34m()\u001b[0m\n",
            "\u001b[0;32m_catboost.pyx\u001b[0m in \u001b[0;36m_catboost._CatBoost._base_predict\u001b[0;34m()\u001b[0m\n",
            "\u001b[0;31mCatBoostError\u001b[0m: catboost/libs/data/model_dataset_compatibility.cpp:81: At position 0 should be feature with name text_clean (found text)."
          ]
        }
      ]
    },
    {
      "cell_type": "code",
      "metadata": {
        "id": "LB6G2r4W2yCD",
        "outputId": "361b36fd-5be0-4dce-8200-16258a406865"
      },
      "source": [
        "submission.head()"
      ],
      "execution_count": null,
      "outputs": [
        {
          "data": {
            "text/html": [
              "<div>\n",
              "<style scoped>\n",
              "    .dataframe tbody tr th:only-of-type {\n",
              "        vertical-align: middle;\n",
              "    }\n",
              "\n",
              "    .dataframe tbody tr th {\n",
              "        vertical-align: top;\n",
              "    }\n",
              "\n",
              "    .dataframe thead th {\n",
              "        text-align: right;\n",
              "    }\n",
              "</style>\n",
              "<table border=\"1\" class=\"dataframe\">\n",
              "  <thead>\n",
              "    <tr style=\"text-align: right;\">\n",
              "      <th></th>\n",
              "      <th>text_id</th>\n",
              "      <th>эймериоз</th>\n",
              "      <th>абсцесс</th>\n",
              "      <th>диспепсия молодняка</th>\n",
              "      <th>остертагиоз</th>\n",
              "      <th>мастит</th>\n",
              "      <th>инфекционный ринотрахеит</th>\n",
              "      <th>отёк вымени</th>\n",
              "      <th>тенденит</th>\n",
              "      <th>сибирская язва</th>\n",
              "      <th>лишай</th>\n",
              "    </tr>\n",
              "  </thead>\n",
              "  <tbody>\n",
              "    <tr>\n",
              "      <th>0</th>\n",
              "      <td>294</td>\n",
              "      <td>0.062719</td>\n",
              "      <td>0.113136</td>\n",
              "      <td>0.072705</td>\n",
              "      <td>0.074253</td>\n",
              "      <td>0.103621</td>\n",
              "      <td>0.075186</td>\n",
              "      <td>0.066241</td>\n",
              "      <td>0.057393</td>\n",
              "      <td>0.104223</td>\n",
              "      <td>0.061639</td>\n",
              "    </tr>\n",
              "    <tr>\n",
              "      <th>1</th>\n",
              "      <td>295</td>\n",
              "      <td>0.567817</td>\n",
              "      <td>0.143268</td>\n",
              "      <td>0.392205</td>\n",
              "      <td>0.375057</td>\n",
              "      <td>0.211739</td>\n",
              "      <td>0.133588</td>\n",
              "      <td>0.136544</td>\n",
              "      <td>0.406265</td>\n",
              "      <td>0.173632</td>\n",
              "      <td>0.088913</td>\n",
              "    </tr>\n",
              "    <tr>\n",
              "      <th>2</th>\n",
              "      <td>296</td>\n",
              "      <td>0.198515</td>\n",
              "      <td>0.120845</td>\n",
              "      <td>0.369088</td>\n",
              "      <td>0.180145</td>\n",
              "      <td>0.233022</td>\n",
              "      <td>0.078119</td>\n",
              "      <td>0.065792</td>\n",
              "      <td>0.311344</td>\n",
              "      <td>0.104504</td>\n",
              "      <td>0.063568</td>\n",
              "    </tr>\n",
              "    <tr>\n",
              "      <th>3</th>\n",
              "      <td>297</td>\n",
              "      <td>0.065979</td>\n",
              "      <td>0.148187</td>\n",
              "      <td>0.077228</td>\n",
              "      <td>0.087859</td>\n",
              "      <td>0.083386</td>\n",
              "      <td>0.069549</td>\n",
              "      <td>0.060314</td>\n",
              "      <td>0.062278</td>\n",
              "      <td>0.103982</td>\n",
              "      <td>0.068143</td>\n",
              "    </tr>\n",
              "    <tr>\n",
              "      <th>4</th>\n",
              "      <td>298</td>\n",
              "      <td>0.068813</td>\n",
              "      <td>0.138642</td>\n",
              "      <td>0.084449</td>\n",
              "      <td>0.083486</td>\n",
              "      <td>0.188230</td>\n",
              "      <td>0.067497</td>\n",
              "      <td>0.089238</td>\n",
              "      <td>0.067269</td>\n",
              "      <td>0.115569</td>\n",
              "      <td>0.089609</td>\n",
              "    </tr>\n",
              "  </tbody>\n",
              "</table>\n",
              "</div>"
            ],
            "text/plain": [
              "   text_id  эймериоз   абсцесс  диспепсия молодняка  остертагиоз    мастит  \\\n",
              "0      294  0.062719  0.113136             0.072705     0.074253  0.103621   \n",
              "1      295  0.567817  0.143268             0.392205     0.375057  0.211739   \n",
              "2      296  0.198515  0.120845             0.369088     0.180145  0.233022   \n",
              "3      297  0.065979  0.148187             0.077228     0.087859  0.083386   \n",
              "4      298  0.068813  0.138642             0.084449     0.083486  0.188230   \n",
              "\n",
              "   инфекционный ринотрахеит  отёк вымени  тенденит  сибирская язва     лишай  \n",
              "0                  0.075186     0.066241  0.057393        0.104223  0.061639  \n",
              "1                  0.133588     0.136544  0.406265        0.173632  0.088913  \n",
              "2                  0.078119     0.065792  0.311344        0.104504  0.063568  \n",
              "3                  0.069549     0.060314  0.062278        0.103982  0.068143  \n",
              "4                  0.067497     0.089238  0.067269        0.115569  0.089609  "
            ]
          },
          "execution_count": 11,
          "metadata": {},
          "output_type": "execute_result"
        }
      ]
    },
    {
      "cell_type": "code",
      "metadata": {
        "id": "RCmAVEa12yCE",
        "outputId": "bb529bf0-14d5-4e2b-a1d7-8f210394d5c0"
      },
      "source": [
        "submission_json = {str(k): {\"span\": list(), \"label\": list(v.values())} \\\n",
        "                   for k,v in submission.set_index('text_id').to_dict('index').items()}\n",
        "\n",
        "submission_json['294']"
      ],
      "execution_count": null,
      "outputs": [
        {
          "data": {
            "text/plain": [
              "{'span': [],\n",
              " 'label': [0.0627194363685613,\n",
              "  0.11313570529902758,\n",
              "  0.07270482269352871,\n",
              "  0.0742534689467756,\n",
              "  0.10362104310746847,\n",
              "  0.07518588621133018,\n",
              "  0.06624119018743685,\n",
              "  0.05739265274755671,\n",
              "  0.10422273080497868,\n",
              "  0.061638782036372346]}"
            ]
          },
          "execution_count": 16,
          "metadata": {},
          "output_type": "execute_result"
        }
      ]
    },
    {
      "cell_type": "code",
      "metadata": {
        "id": "hJXyCRrt2yCE"
      },
      "source": [
        "with open('sample_submission.json', 'w') as final_submit:\n",
        "    json.dump(submission_json, final_submit, indent=4)"
      ],
      "execution_count": null,
      "outputs": []
    }
  ]
}