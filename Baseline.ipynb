{
  "nbformat": 4,
  "nbformat_minor": 0,
  "metadata": {
    "kernelspec": {
      "display_name": "Python 3",
      "language": "python",
      "name": "python3"
    },
    "language_info": {
      "codemirror_mode": {
        "name": "ipython",
        "version": 3
      },
      "file_extension": ".py",
      "mimetype": "text/x-python",
      "name": "python",
      "nbconvert_exporter": "python",
      "pygments_lexer": "ipython3",
      "version": "3.8.6"
    },
    "colab": {
      "name": "Baseline.ipynb",
      "provenance": [],
      "collapsed_sections": []
    }
  },
  "cells": [
    {
      "cell_type": "markdown",
      "metadata": {
        "id": "6tyzAgdX2yBn"
      },
      "source": [
        "# Импорт модулей"
      ]
    },
    {
      "cell_type": "code",
      "metadata": {
        "colab": {
          "base_uri": "https://localhost:8080/"
        },
        "id": "wu4wz7zh27YK",
        "outputId": "0ad18376-3466-4c5c-f61f-281de6c6c74d"
      },
      "source": [
        "from google.colab import drive\n",
        "drive.mount('/content/drive')"
      ],
      "execution_count": null,
      "outputs": [
        {
          "output_type": "stream",
          "name": "stdout",
          "text": [
            "Drive already mounted at /content/drive; to attempt to forcibly remount, call drive.mount(\"/content/drive\", force_remount=True).\n"
          ]
        }
      ]
    },
    {
      "cell_type": "code",
      "metadata": {
        "colab": {
          "base_uri": "https://localhost:8080/"
        },
        "id": "8irYQBid2yBy",
        "outputId": "b9e84063-2bf4-4c62-f0a8-87b22603d163"
      },
      "source": [
        "!pip install catboost\n",
        "\n",
        "import json\n",
        "import pandas as pd\n",
        "import numpy as np\n",
        "from catboost import CatBoostClassifier\n",
        "from sklearn.model_selection import train_test_split\n",
        "from sklearn.multiclass import OneVsRestClassifier\n",
        "from sklearn.metrics import log_loss"
      ],
      "execution_count": null,
      "outputs": [
        {
          "output_type": "stream",
          "name": "stdout",
          "text": [
            "Requirement already satisfied: catboost in /usr/local/lib/python3.7/dist-packages (1.0.0)\n",
            "Requirement already satisfied: plotly in /usr/local/lib/python3.7/dist-packages (from catboost) (4.4.1)\n",
            "Requirement already satisfied: numpy>=1.16.0 in /usr/local/lib/python3.7/dist-packages (from catboost) (1.19.5)\n",
            "Requirement already satisfied: six in /usr/local/lib/python3.7/dist-packages (from catboost) (1.15.0)\n",
            "Requirement already satisfied: matplotlib in /usr/local/lib/python3.7/dist-packages (from catboost) (3.2.2)\n",
            "Requirement already satisfied: graphviz in /usr/local/lib/python3.7/dist-packages (from catboost) (0.10.1)\n",
            "Requirement already satisfied: scipy in /usr/local/lib/python3.7/dist-packages (from catboost) (1.4.1)\n",
            "Requirement already satisfied: pandas>=0.24.0 in /usr/local/lib/python3.7/dist-packages (from catboost) (1.1.5)\n",
            "Requirement already satisfied: pytz>=2017.2 in /usr/local/lib/python3.7/dist-packages (from pandas>=0.24.0->catboost) (2018.9)\n",
            "Requirement already satisfied: python-dateutil>=2.7.3 in /usr/local/lib/python3.7/dist-packages (from pandas>=0.24.0->catboost) (2.8.2)\n",
            "Requirement already satisfied: kiwisolver>=1.0.1 in /usr/local/lib/python3.7/dist-packages (from matplotlib->catboost) (1.3.2)\n",
            "Requirement already satisfied: cycler>=0.10 in /usr/local/lib/python3.7/dist-packages (from matplotlib->catboost) (0.10.0)\n",
            "Requirement already satisfied: pyparsing!=2.0.4,!=2.1.2,!=2.1.6,>=2.0.1 in /usr/local/lib/python3.7/dist-packages (from matplotlib->catboost) (2.4.7)\n",
            "Requirement already satisfied: retrying>=1.3.3 in /usr/local/lib/python3.7/dist-packages (from plotly->catboost) (1.3.3)\n"
          ]
        }
      ]
    },
    {
      "cell_type": "markdown",
      "metadata": {
        "id": "wJifExPD2yB2"
      },
      "source": [
        "# Загрузка данных"
      ]
    },
    {
      "cell_type": "markdown",
      "metadata": {
        "id": "S9r7IMgO2yB3"
      },
      "source": [
        "Тренировочные данные состоят из полей 'text_id', 'text' и 11 полей с таргетами. Не стоит забывать, что может быть больше одной болезни для каждого случая."
      ]
    },
    {
      "cell_type": "markdown",
      "metadata": {
        "id": "STIY_JqU2yB4"
      },
      "source": [
        "Тестовые же данные содержат поля 'text_id' и 'text'."
      ]
    },
    {
      "cell_type": "code",
      "metadata": {
        "id": "pJ6KoE2u2yB4"
      },
      "source": [
        "train = pd.read_csv('/content/drive/MyDrive/Agrocode Hack/train.csv')\n",
        "test = pd.read_csv('/content/drive/MyDrive/Agrocode Hack/test.csv')"
      ],
      "execution_count": null,
      "outputs": []
    },
    {
      "cell_type": "code",
      "metadata": {
        "colab": {
          "base_uri": "https://localhost:8080/"
        },
        "id": "cRBAFXZN2yB5",
        "outputId": "63c40f3f-470a-4b23-971e-44206267e183"
      },
      "source": [
        "train['text'].head(10)"
      ],
      "execution_count": null,
      "outputs": [
        {
          "output_type": "execute_result",
          "data": {
            "text/plain": [
              "0    Корова, видимо вставая, раздавила себе сосок. ...\n",
              "1    Корове 8 лет! Месяц назад промеж четвертей вым...\n",
              "2    Молоко течёт само у коровы. Что делать, если у...\n",
              "3    У нетели болячки на вымени.\\nЗдравствуйте. Нет...\n",
              "4    У меня первотелка, на днях отёл, у неё левый п...\n",
              "5    Чем пропоить телёнка от поноса?\\nПодскажите по...\n",
              "6    У лейкозной коровы язвочки на сосках, что это?...\n",
              "7    Здравствуйте у меня проблема. Бык-1,2 года вне...\n",
              "8    Прошу совета в лечении язвочек на вымени у кор...\n",
              "9    Можно ли смешать сыворотку от паратифа с антиб...\n",
              "Name: text, dtype: object"
            ]
          },
          "metadata": {},
          "execution_count": 29
        }
      ]
    },
    {
      "cell_type": "code",
      "metadata": {
        "colab": {
          "base_uri": "https://localhost:8080/",
          "height": 111
        },
        "id": "s7gmSC7-2yB7",
        "outputId": "89c912be-9bf4-4504-bdc1-1b24f897d5ae"
      },
      "source": [
        "test.head(2)"
      ],
      "execution_count": null,
      "outputs": [
        {
          "output_type": "execute_result",
          "data": {
            "text/html": [
              "<div>\n",
              "<style scoped>\n",
              "    .dataframe tbody tr th:only-of-type {\n",
              "        vertical-align: middle;\n",
              "    }\n",
              "\n",
              "    .dataframe tbody tr th {\n",
              "        vertical-align: top;\n",
              "    }\n",
              "\n",
              "    .dataframe thead th {\n",
              "        text-align: right;\n",
              "    }\n",
              "</style>\n",
              "<table border=\"1\" class=\"dataframe\">\n",
              "  <thead>\n",
              "    <tr style=\"text-align: right;\">\n",
              "      <th></th>\n",
              "      <th>text_id</th>\n",
              "      <th>text</th>\n",
              "    </tr>\n",
              "  </thead>\n",
              "  <tbody>\n",
              "    <tr>\n",
              "      <th>0</th>\n",
              "      <td>294</td>\n",
              "      <td>Понос у месячных телят. Подскажите методы и сп...</td>\n",
              "    </tr>\n",
              "    <tr>\n",
              "      <th>1</th>\n",
              "      <td>295</td>\n",
              "      <td>Понос у телят, чем лечить? \\nЧем можно вылечит...</td>\n",
              "    </tr>\n",
              "  </tbody>\n",
              "</table>\n",
              "</div>"
            ],
            "text/plain": [
              "   text_id                                               text\n",
              "0      294  Понос у месячных телят. Подскажите методы и сп...\n",
              "1      295  Понос у телят, чем лечить? \\nЧем можно вылечит..."
            ]
          },
          "metadata": {},
          "execution_count": 14
        }
      ]
    },
    {
      "cell_type": "markdown",
      "metadata": {
        "id": "SKddjC2K7di6"
      },
      "source": [
        "# EDA"
      ]
    },
    {
      "cell_type": "code",
      "metadata": {
        "id": "zTK_AZQU7gxp"
      },
      "source": [
        "from gensim.models import Word2Vec"
      ],
      "execution_count": null,
      "outputs": []
    },
    {
      "cell_type": "code",
      "metadata": {
        "id": "6ix5w2r97iXU"
      },
      "source": [
        "w2v_model = Word2Vec(min_count=2, window=2, size=50, negative=10, alpha=0.03, min_alpha=0.0007, sample=6e-5, sg=1)\n",
        "# min_count — игнорировать все слова с частотой встречаемости меньше, чем это значение. \n",
        "# windоw — размер контекстного окна, о котором говорили тут, обозначает диапазон контекста.\n",
        "# size — размер векторного представления слова (word embedding).\n",
        "# negative — сколько неконтекстных слов учитывать в обучении, используя negative sampling, о нем также упоминалось здесь.\n",
        "# alpha — начальный learning_rate, используемый в алгоритме обратного распространения ошибки (Backpropogation).\n",
        "# min_alpha — минимальное значение learning_rate, на которое может опуститься в процессе обучения.\n",
        "# sg — если 1, то используется реализация Skip-gram; если 0, то CBOW. О реализациях также говорили тут."
      ],
      "execution_count": null,
      "outputs": []
    },
    {
      "cell_type": "code",
      "metadata": {
        "id": "_h40Bf1l7wQx"
      },
      "source": [
        "# загужаем датасет\n",
        "w2v_model.build_vocab(train['text'])"
      ],
      "execution_count": null,
      "outputs": []
    },
    {
      "cell_type": "code",
      "metadata": {
        "colab": {
          "base_uri": "https://localhost:8080/"
        },
        "id": "T3t_--H38AyK",
        "outputId": "0881d829-c498-4ac7-d21c-e6949fc0a6a0"
      },
      "source": [
        "# обучаем модель\n",
        "w2v_model.train(train['text'], total_examples=w2v_model.corpus_count, epochs=30, report_delay=1)"
      ],
      "execution_count": null,
      "outputs": [
        {
          "output_type": "execute_result",
          "data": {
            "text/plain": [
              "(149146, 2767260)"
            ]
          },
          "metadata": {},
          "execution_count": 25
        }
      ]
    },
    {
      "cell_type": "code",
      "metadata": {
        "colab": {
          "base_uri": "https://localhost:8080/",
          "height": 306
        },
        "id": "7gmeniQx-9hn",
        "outputId": "d1274945-a134-41eb-db9f-f27319ee82cd"
      },
      "source": [
        "w2v_model.wv.most_similar(positive=['Понос'])"
      ],
      "execution_count": null,
      "outputs": [
        {
          "output_type": "error",
          "ename": "KeyError",
          "evalue": "ignored",
          "traceback": [
            "\u001b[0;31m---------------------------------------------------------------------------\u001b[0m",
            "\u001b[0;31mKeyError\u001b[0m                                  Traceback (most recent call last)",
            "\u001b[0;32m<ipython-input-26-ce1a9ddf80c7>\u001b[0m in \u001b[0;36m<module>\u001b[0;34m()\u001b[0m\n\u001b[0;32m----> 1\u001b[0;31m \u001b[0mw2v_model\u001b[0m\u001b[0;34m.\u001b[0m\u001b[0mwv\u001b[0m\u001b[0;34m.\u001b[0m\u001b[0mmost_similar\u001b[0m\u001b[0;34m(\u001b[0m\u001b[0mpositive\u001b[0m\u001b[0;34m=\u001b[0m\u001b[0;34m[\u001b[0m\u001b[0;34m'Понос'\u001b[0m\u001b[0;34m]\u001b[0m\u001b[0;34m)\u001b[0m\u001b[0;34m\u001b[0m\u001b[0;34m\u001b[0m\u001b[0m\n\u001b[0m",
            "\u001b[0;32m/usr/local/lib/python3.7/dist-packages/gensim/models/keyedvectors.py\u001b[0m in \u001b[0;36mmost_similar\u001b[0;34m(self, positive, negative, topn, restrict_vocab, indexer)\u001b[0m\n\u001b[1;32m    529\u001b[0m                 \u001b[0mmean\u001b[0m\u001b[0;34m.\u001b[0m\u001b[0mappend\u001b[0m\u001b[0;34m(\u001b[0m\u001b[0mweight\u001b[0m \u001b[0;34m*\u001b[0m \u001b[0mword\u001b[0m\u001b[0;34m)\u001b[0m\u001b[0;34m\u001b[0m\u001b[0;34m\u001b[0m\u001b[0m\n\u001b[1;32m    530\u001b[0m             \u001b[0;32melse\u001b[0m\u001b[0;34m:\u001b[0m\u001b[0;34m\u001b[0m\u001b[0;34m\u001b[0m\u001b[0m\n\u001b[0;32m--> 531\u001b[0;31m                 \u001b[0mmean\u001b[0m\u001b[0;34m.\u001b[0m\u001b[0mappend\u001b[0m\u001b[0;34m(\u001b[0m\u001b[0mweight\u001b[0m \u001b[0;34m*\u001b[0m \u001b[0mself\u001b[0m\u001b[0;34m.\u001b[0m\u001b[0mword_vec\u001b[0m\u001b[0;34m(\u001b[0m\u001b[0mword\u001b[0m\u001b[0;34m,\u001b[0m \u001b[0muse_norm\u001b[0m\u001b[0;34m=\u001b[0m\u001b[0;32mTrue\u001b[0m\u001b[0;34m)\u001b[0m\u001b[0;34m)\u001b[0m\u001b[0;34m\u001b[0m\u001b[0;34m\u001b[0m\u001b[0m\n\u001b[0m\u001b[1;32m    532\u001b[0m                 \u001b[0;32mif\u001b[0m \u001b[0mword\u001b[0m \u001b[0;32min\u001b[0m \u001b[0mself\u001b[0m\u001b[0;34m.\u001b[0m\u001b[0mvocab\u001b[0m\u001b[0;34m:\u001b[0m\u001b[0;34m\u001b[0m\u001b[0;34m\u001b[0m\u001b[0m\n\u001b[1;32m    533\u001b[0m                     \u001b[0mall_words\u001b[0m\u001b[0;34m.\u001b[0m\u001b[0madd\u001b[0m\u001b[0;34m(\u001b[0m\u001b[0mself\u001b[0m\u001b[0;34m.\u001b[0m\u001b[0mvocab\u001b[0m\u001b[0;34m[\u001b[0m\u001b[0mword\u001b[0m\u001b[0;34m]\u001b[0m\u001b[0;34m.\u001b[0m\u001b[0mindex\u001b[0m\u001b[0;34m)\u001b[0m\u001b[0;34m\u001b[0m\u001b[0;34m\u001b[0m\u001b[0m\n",
            "\u001b[0;32m/usr/local/lib/python3.7/dist-packages/gensim/models/keyedvectors.py\u001b[0m in \u001b[0;36mword_vec\u001b[0;34m(self, word, use_norm)\u001b[0m\n\u001b[1;32m    450\u001b[0m             \u001b[0;32mreturn\u001b[0m \u001b[0mresult\u001b[0m\u001b[0;34m\u001b[0m\u001b[0;34m\u001b[0m\u001b[0m\n\u001b[1;32m    451\u001b[0m         \u001b[0;32melse\u001b[0m\u001b[0;34m:\u001b[0m\u001b[0;34m\u001b[0m\u001b[0;34m\u001b[0m\u001b[0m\n\u001b[0;32m--> 452\u001b[0;31m             \u001b[0;32mraise\u001b[0m \u001b[0mKeyError\u001b[0m\u001b[0;34m(\u001b[0m\u001b[0;34m\"word '%s' not in vocabulary\"\u001b[0m \u001b[0;34m%\u001b[0m \u001b[0mword\u001b[0m\u001b[0;34m)\u001b[0m\u001b[0;34m\u001b[0m\u001b[0;34m\u001b[0m\u001b[0m\n\u001b[0m\u001b[1;32m    453\u001b[0m \u001b[0;34m\u001b[0m\u001b[0m\n\u001b[1;32m    454\u001b[0m     \u001b[0;32mdef\u001b[0m \u001b[0mget_vector\u001b[0m\u001b[0;34m(\u001b[0m\u001b[0mself\u001b[0m\u001b[0;34m,\u001b[0m \u001b[0mword\u001b[0m\u001b[0;34m)\u001b[0m\u001b[0;34m:\u001b[0m\u001b[0;34m\u001b[0m\u001b[0;34m\u001b[0m\u001b[0m\n",
            "\u001b[0;31mKeyError\u001b[0m: \"word 'Понос' not in vocabulary\""
          ]
        }
      ]
    },
    {
      "cell_type": "code",
      "metadata": {
        "id": "FfBjHS2E8Flm"
      },
      "source": [
        ""
      ],
      "execution_count": null,
      "outputs": []
    },
    {
      "cell_type": "markdown",
      "metadata": {
        "id": "VqWHAu_x2yB8"
      },
      "source": [
        "# Базовая модель"
      ]
    },
    {
      "cell_type": "markdown",
      "metadata": {
        "id": "DSj_XUcE2yB8"
      },
      "source": [
        "В качестве базового решения используется CatBoostClassifier, поддерживающий текстовые фичи. Помимо этого задача является мультилейбл классификацией, поэтому модель обернута в OneVsRestClassifier."
      ]
    },
    {
      "cell_type": "markdown",
      "metadata": {
        "id": "ojm3f5jC2yB9"
      },
      "source": [
        "**Делим данные на тренировочную и валидационную выборку**"
      ]
    },
    {
      "cell_type": "code",
      "metadata": {
        "id": "RmIoArUB2yB-"
      },
      "source": [
        "X_train, X_val, y_train, y_val = train_test_split(pd.DataFrame(train['text']), train[train.columns[2:]], test_size=0.2)"
      ],
      "execution_count": null,
      "outputs": []
    },
    {
      "cell_type": "markdown",
      "metadata": {
        "id": "admpG7F_2yB_"
      },
      "source": [
        "**Обучаем модель**"
      ]
    },
    {
      "cell_type": "code",
      "metadata": {
        "colab": {
          "base_uri": "https://localhost:8080/"
        },
        "id": "q0Rigjsa2yB_",
        "outputId": "1eef9cce-4ac5-4e9e-e33d-f49659f24cb0"
      },
      "source": [
        "model = OneVsRestClassifier(estimator=CatBoostClassifier(iterations = 100, text_features=['text'], \n",
        "                                                         verbose = 50, allow_writing_files=False))\n",
        "model.fit(X_train, y_train)"
      ],
      "execution_count": null,
      "outputs": [
        {
          "output_type": "stream",
          "name": "stdout",
          "text": [
            "Learning rate set to 0.045854\n",
            "0:\tlearn: 0.6750223\ttotal: 90.4ms\tremaining: 8.95s\n",
            "50:\tlearn: 0.3992793\ttotal: 1.85s\tremaining: 1.78s\n",
            "99:\tlearn: 0.3346489\ttotal: 3.54s\tremaining: 0us\n",
            "Learning rate set to 0.045854\n",
            "0:\tlearn: 0.6736297\ttotal: 35.3ms\tremaining: 3.5s\n",
            "50:\tlearn: 0.3749512\ttotal: 1.75s\tremaining: 1.68s\n",
            "99:\tlearn: 0.3172577\ttotal: 3.4s\tremaining: 0us\n",
            "Learning rate set to 0.045854\n",
            "0:\tlearn: 0.6745299\ttotal: 34ms\tremaining: 3.37s\n",
            "50:\tlearn: 0.3882340\ttotal: 1.78s\tremaining: 1.71s\n",
            "99:\tlearn: 0.3269351\ttotal: 3.48s\tremaining: 0us\n",
            "Learning rate set to 0.045854\n",
            "0:\tlearn: 0.6714341\ttotal: 38.2ms\tremaining: 3.78s\n",
            "50:\tlearn: 0.3663993\ttotal: 1.74s\tremaining: 1.68s\n",
            "99:\tlearn: 0.3109305\ttotal: 3.42s\tremaining: 0us\n",
            "Learning rate set to 0.045854\n",
            "0:\tlearn: 0.6741982\ttotal: 35.9ms\tremaining: 3.56s\n",
            "50:\tlearn: 0.3477512\ttotal: 1.76s\tremaining: 1.7s\n",
            "99:\tlearn: 0.2814248\ttotal: 3.43s\tremaining: 0us\n",
            "Learning rate set to 0.045854\n",
            "0:\tlearn: 0.6723350\ttotal: 33.7ms\tremaining: 3.33s\n",
            "50:\tlearn: 0.3471807\ttotal: 1.74s\tremaining: 1.67s\n",
            "99:\tlearn: 0.2874300\ttotal: 3.4s\tremaining: 0us\n",
            "Learning rate set to 0.045854\n",
            "0:\tlearn: 0.6724568\ttotal: 35.2ms\tremaining: 3.48s\n",
            "50:\tlearn: 0.3006439\ttotal: 1.71s\tremaining: 1.64s\n",
            "99:\tlearn: 0.2292184\ttotal: 3.37s\tremaining: 0us\n",
            "Learning rate set to 0.045854\n",
            "0:\tlearn: 0.6645785\ttotal: 33.3ms\tremaining: 3.3s\n",
            "50:\tlearn: 0.2782994\ttotal: 1.74s\tremaining: 1.67s\n",
            "99:\tlearn: 0.2042147\ttotal: 3.42s\tremaining: 0us\n",
            "Learning rate set to 0.045854\n",
            "0:\tlearn: 0.6696056\ttotal: 34.5ms\tremaining: 3.41s\n",
            "50:\tlearn: 0.3321294\ttotal: 1.79s\tremaining: 1.72s\n",
            "99:\tlearn: 0.2782472\ttotal: 3.46s\tremaining: 0us\n",
            "Learning rate set to 0.045854\n",
            "0:\tlearn: 0.6694229\ttotal: 33.9ms\tremaining: 3.35s\n",
            "50:\tlearn: 0.3117814\ttotal: 1.76s\tremaining: 1.69s\n",
            "99:\tlearn: 0.2461718\ttotal: 3.45s\tremaining: 0us\n",
            "Learning rate set to 0.045854\n",
            "0:\tlearn: 0.6887485\ttotal: 34ms\tremaining: 3.37s\n",
            "50:\tlearn: 0.6067623\ttotal: 1.73s\tremaining: 1.66s\n",
            "99:\tlearn: 0.5530198\ttotal: 3.42s\tremaining: 0us\n"
          ]
        },
        {
          "output_type": "execute_result",
          "data": {
            "text/plain": [
              "OneVsRestClassifier(estimator=<catboost.core.CatBoostClassifier object at 0x7f6c6a26ae10>,\n",
              "                    n_jobs=None)"
            ]
          },
          "metadata": {},
          "execution_count": 7
        }
      ]
    },
    {
      "cell_type": "markdown",
      "metadata": {
        "id": "0Hvu1xwe2yCA"
      },
      "source": [
        "# Считаем метрику"
      ]
    },
    {
      "cell_type": "markdown",
      "metadata": {
        "id": "NQvN6Xl02yCA"
      },
      "source": [
        "В качестве \"gt\" (ground truth) функция принимает на вход датафрейм/массив из 10 столбцов (все классы, кроме \"другое\"). Предсказанные значения – \"pr\", также должны быть либо в виде датафрейма, либо в виде массива."
      ]
    },
    {
      "cell_type": "code",
      "metadata": {
        "id": "_HNwUn_K2yCB"
      },
      "source": [
        "def log_loss_score(gt, pr):\n",
        "    \n",
        "    log_loss_ = 0\n",
        "    \n",
        "    gt = np.array(gt)\n",
        "    \n",
        "    for i in range(10):\n",
        "        log_loss_ += log_loss(gt[:, i], pr[:, i])\n",
        "        \n",
        "    return log_loss_ / 10"
      ],
      "execution_count": null,
      "outputs": []
    },
    {
      "cell_type": "code",
      "metadata": {
        "colab": {
          "base_uri": "https://localhost:8080/"
        },
        "id": "X23ZA9IF2yCB",
        "outputId": "a4dec22f-c3a5-4dc0-aeec-20ba6001a51f"
      },
      "source": [
        "log_loss_score(y_val, model.predict_proba(X_val))"
      ],
      "execution_count": null,
      "outputs": [
        {
          "output_type": "execute_result",
          "data": {
            "text/plain": [
              "0.35142202402040995"
            ]
          },
          "metadata": {},
          "execution_count": 9
        }
      ]
    },
    {
      "cell_type": "markdown",
      "metadata": {
        "id": "AfB5nhR_2yCC"
      },
      "source": [
        "# Создание файла отправки"
      ]
    },
    {
      "cell_type": "markdown",
      "metadata": {
        "id": "OLaH3opl2yCC"
      },
      "source": [
        "В файле с ответами должны быть вероятности для каждого класса. Сумма вероятностей в каждой строке может быть больше 1."
      ]
    },
    {
      "cell_type": "code",
      "metadata": {
        "id": "c6aLldaL2yCD"
      },
      "source": [
        "submission_columns = ['text_id'] + list(train.columns[2:-1])\n",
        "submission = pd.concat([test['text_id'], pd.DataFrame(model.predict_proba(pd.DataFrame(test['text']))[:, :10])], axis=1)\n",
        "submission.columns = submission_columns"
      ],
      "execution_count": null,
      "outputs": []
    },
    {
      "cell_type": "code",
      "metadata": {
        "id": "LB6G2r4W2yCD",
        "outputId": "361b36fd-5be0-4dce-8200-16258a406865"
      },
      "source": [
        "submission.head()"
      ],
      "execution_count": null,
      "outputs": [
        {
          "data": {
            "text/html": [
              "<div>\n",
              "<style scoped>\n",
              "    .dataframe tbody tr th:only-of-type {\n",
              "        vertical-align: middle;\n",
              "    }\n",
              "\n",
              "    .dataframe tbody tr th {\n",
              "        vertical-align: top;\n",
              "    }\n",
              "\n",
              "    .dataframe thead th {\n",
              "        text-align: right;\n",
              "    }\n",
              "</style>\n",
              "<table border=\"1\" class=\"dataframe\">\n",
              "  <thead>\n",
              "    <tr style=\"text-align: right;\">\n",
              "      <th></th>\n",
              "      <th>text_id</th>\n",
              "      <th>эймериоз</th>\n",
              "      <th>абсцесс</th>\n",
              "      <th>диспепсия молодняка</th>\n",
              "      <th>остертагиоз</th>\n",
              "      <th>мастит</th>\n",
              "      <th>инфекционный ринотрахеит</th>\n",
              "      <th>отёк вымени</th>\n",
              "      <th>тенденит</th>\n",
              "      <th>сибирская язва</th>\n",
              "      <th>лишай</th>\n",
              "    </tr>\n",
              "  </thead>\n",
              "  <tbody>\n",
              "    <tr>\n",
              "      <th>0</th>\n",
              "      <td>294</td>\n",
              "      <td>0.062719</td>\n",
              "      <td>0.113136</td>\n",
              "      <td>0.072705</td>\n",
              "      <td>0.074253</td>\n",
              "      <td>0.103621</td>\n",
              "      <td>0.075186</td>\n",
              "      <td>0.066241</td>\n",
              "      <td>0.057393</td>\n",
              "      <td>0.104223</td>\n",
              "      <td>0.061639</td>\n",
              "    </tr>\n",
              "    <tr>\n",
              "      <th>1</th>\n",
              "      <td>295</td>\n",
              "      <td>0.567817</td>\n",
              "      <td>0.143268</td>\n",
              "      <td>0.392205</td>\n",
              "      <td>0.375057</td>\n",
              "      <td>0.211739</td>\n",
              "      <td>0.133588</td>\n",
              "      <td>0.136544</td>\n",
              "      <td>0.406265</td>\n",
              "      <td>0.173632</td>\n",
              "      <td>0.088913</td>\n",
              "    </tr>\n",
              "    <tr>\n",
              "      <th>2</th>\n",
              "      <td>296</td>\n",
              "      <td>0.198515</td>\n",
              "      <td>0.120845</td>\n",
              "      <td>0.369088</td>\n",
              "      <td>0.180145</td>\n",
              "      <td>0.233022</td>\n",
              "      <td>0.078119</td>\n",
              "      <td>0.065792</td>\n",
              "      <td>0.311344</td>\n",
              "      <td>0.104504</td>\n",
              "      <td>0.063568</td>\n",
              "    </tr>\n",
              "    <tr>\n",
              "      <th>3</th>\n",
              "      <td>297</td>\n",
              "      <td>0.065979</td>\n",
              "      <td>0.148187</td>\n",
              "      <td>0.077228</td>\n",
              "      <td>0.087859</td>\n",
              "      <td>0.083386</td>\n",
              "      <td>0.069549</td>\n",
              "      <td>0.060314</td>\n",
              "      <td>0.062278</td>\n",
              "      <td>0.103982</td>\n",
              "      <td>0.068143</td>\n",
              "    </tr>\n",
              "    <tr>\n",
              "      <th>4</th>\n",
              "      <td>298</td>\n",
              "      <td>0.068813</td>\n",
              "      <td>0.138642</td>\n",
              "      <td>0.084449</td>\n",
              "      <td>0.083486</td>\n",
              "      <td>0.188230</td>\n",
              "      <td>0.067497</td>\n",
              "      <td>0.089238</td>\n",
              "      <td>0.067269</td>\n",
              "      <td>0.115569</td>\n",
              "      <td>0.089609</td>\n",
              "    </tr>\n",
              "  </tbody>\n",
              "</table>\n",
              "</div>"
            ],
            "text/plain": [
              "   text_id  эймериоз   абсцесс  диспепсия молодняка  остертагиоз    мастит  \\\n",
              "0      294  0.062719  0.113136             0.072705     0.074253  0.103621   \n",
              "1      295  0.567817  0.143268             0.392205     0.375057  0.211739   \n",
              "2      296  0.198515  0.120845             0.369088     0.180145  0.233022   \n",
              "3      297  0.065979  0.148187             0.077228     0.087859  0.083386   \n",
              "4      298  0.068813  0.138642             0.084449     0.083486  0.188230   \n",
              "\n",
              "   инфекционный ринотрахеит  отёк вымени  тенденит  сибирская язва     лишай  \n",
              "0                  0.075186     0.066241  0.057393        0.104223  0.061639  \n",
              "1                  0.133588     0.136544  0.406265        0.173632  0.088913  \n",
              "2                  0.078119     0.065792  0.311344        0.104504  0.063568  \n",
              "3                  0.069549     0.060314  0.062278        0.103982  0.068143  \n",
              "4                  0.067497     0.089238  0.067269        0.115569  0.089609  "
            ]
          },
          "execution_count": 11,
          "metadata": {},
          "output_type": "execute_result"
        }
      ]
    },
    {
      "cell_type": "code",
      "metadata": {
        "id": "RCmAVEa12yCE",
        "outputId": "bb529bf0-14d5-4e2b-a1d7-8f210394d5c0"
      },
      "source": [
        "submission_json = {str(k): {\"span\": list(), \"label\": list(v.values())} \\\n",
        "                   for k,v in submission.set_index('text_id').to_dict('index').items()}\n",
        "\n",
        "submission_json['294']"
      ],
      "execution_count": null,
      "outputs": [
        {
          "data": {
            "text/plain": [
              "{'span': [],\n",
              " 'label': [0.0627194363685613,\n",
              "  0.11313570529902758,\n",
              "  0.07270482269352871,\n",
              "  0.0742534689467756,\n",
              "  0.10362104310746847,\n",
              "  0.07518588621133018,\n",
              "  0.06624119018743685,\n",
              "  0.05739265274755671,\n",
              "  0.10422273080497868,\n",
              "  0.061638782036372346]}"
            ]
          },
          "execution_count": 16,
          "metadata": {},
          "output_type": "execute_result"
        }
      ]
    },
    {
      "cell_type": "code",
      "metadata": {
        "id": "hJXyCRrt2yCE"
      },
      "source": [
        "with open('sample_submission.json', 'w') as final_submit:\n",
        "    json.dump(submission_json, final_submit, indent=4)"
      ],
      "execution_count": null,
      "outputs": []
    }
  ]
}